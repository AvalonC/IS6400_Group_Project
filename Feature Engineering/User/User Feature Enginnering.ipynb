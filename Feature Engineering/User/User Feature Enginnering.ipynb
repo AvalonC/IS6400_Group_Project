{
 "cells": [
  {
   "cell_type": "markdown",
   "metadata": {},
   "source": [
    "# Feature Engineering\n",
    "## Data import"
   ]
  },
  {
   "cell_type": "code",
   "execution_count": 1,
   "metadata": {},
   "outputs": [
    {
     "name": "stdout",
     "output_type": "stream",
     "text": [
      "1754884\n"
     ]
    }
   ],
   "source": [
    "import numpy as np\n",
    "import pandas as pd\n",
    "offline = pd.read_csv('offline_train.csv', header=0)\n",
    "print(offline.shape[0])"
   ]
  },
  {
   "cell_type": "markdown",
   "metadata": {},
   "source": [
    "## Delete null value in the dataset"
   ]
  },
  {
   "cell_type": "code",
   "execution_count": 2,
   "metadata": {},
   "outputs": [
    {
     "name": "stdout",
     "output_type": "stream",
     "text": [
      "1053282\n"
     ]
    }
   ],
   "source": [
    "offline_notNull = offline[offline.Coupon_id.notnull()]\n",
    "print(offline_notNull.shape[0])"
   ]
  },
  {
   "cell_type": "code",
   "execution_count": 3,
   "metadata": {},
   "outputs": [
    {
     "data": {
      "text/plain": "         User_id  Merchant_id  Coupon_id Discount_rate  Distance  \\\n1        1439408         4663    11002.0        150:20       1.0   \n2        1439408         2632     8591.0          20:1       0.0   \n3        1439408         2632     1078.0          20:1       0.0   \n4        1439408         2632     8591.0          20:1       0.0   \n6        1439408         2632     8591.0          20:1       0.0   \n...          ...          ...        ...           ...       ...   \n1754877   212662         3021     3739.0          30:1       6.0   \n1754878   212662         2934     5686.0          30:5       2.0   \n1754880   212662         3021     3739.0          30:1       6.0   \n1754882   752472         7113     1633.0         50:10       6.0   \n1754883   752472         3621     2705.0          20:5       0.0   \n\n         Date_received        Date  \n1           20160528.0         NaN  \n2           20160217.0         NaN  \n3           20160319.0         NaN  \n4           20160613.0         NaN  \n6           20160516.0  20160613.0  \n...                ...         ...  \n1754877     20160504.0  20160508.0  \n1754878     20160321.0  20160322.0  \n1754880     20160508.0  20160602.0  \n1754882     20160613.0         NaN  \n1754883     20160523.0         NaN  \n\n[1053282 rows x 7 columns]",
      "text/html": "<div>\n<style scoped>\n    .dataframe tbody tr th:only-of-type {\n        vertical-align: middle;\n    }\n\n    .dataframe tbody tr th {\n        vertical-align: top;\n    }\n\n    .dataframe thead th {\n        text-align: right;\n    }\n</style>\n<table border=\"1\" class=\"dataframe\">\n  <thead>\n    <tr style=\"text-align: right;\">\n      <th></th>\n      <th>User_id</th>\n      <th>Merchant_id</th>\n      <th>Coupon_id</th>\n      <th>Discount_rate</th>\n      <th>Distance</th>\n      <th>Date_received</th>\n      <th>Date</th>\n    </tr>\n  </thead>\n  <tbody>\n    <tr>\n      <th>1</th>\n      <td>1439408</td>\n      <td>4663</td>\n      <td>11002.0</td>\n      <td>150:20</td>\n      <td>1.0</td>\n      <td>20160528.0</td>\n      <td>NaN</td>\n    </tr>\n    <tr>\n      <th>2</th>\n      <td>1439408</td>\n      <td>2632</td>\n      <td>8591.0</td>\n      <td>20:1</td>\n      <td>0.0</td>\n      <td>20160217.0</td>\n      <td>NaN</td>\n    </tr>\n    <tr>\n      <th>3</th>\n      <td>1439408</td>\n      <td>2632</td>\n      <td>1078.0</td>\n      <td>20:1</td>\n      <td>0.0</td>\n      <td>20160319.0</td>\n      <td>NaN</td>\n    </tr>\n    <tr>\n      <th>4</th>\n      <td>1439408</td>\n      <td>2632</td>\n      <td>8591.0</td>\n      <td>20:1</td>\n      <td>0.0</td>\n      <td>20160613.0</td>\n      <td>NaN</td>\n    </tr>\n    <tr>\n      <th>6</th>\n      <td>1439408</td>\n      <td>2632</td>\n      <td>8591.0</td>\n      <td>20:1</td>\n      <td>0.0</td>\n      <td>20160516.0</td>\n      <td>20160613.0</td>\n    </tr>\n    <tr>\n      <th>...</th>\n      <td>...</td>\n      <td>...</td>\n      <td>...</td>\n      <td>...</td>\n      <td>...</td>\n      <td>...</td>\n      <td>...</td>\n    </tr>\n    <tr>\n      <th>1754877</th>\n      <td>212662</td>\n      <td>3021</td>\n      <td>3739.0</td>\n      <td>30:1</td>\n      <td>6.0</td>\n      <td>20160504.0</td>\n      <td>20160508.0</td>\n    </tr>\n    <tr>\n      <th>1754878</th>\n      <td>212662</td>\n      <td>2934</td>\n      <td>5686.0</td>\n      <td>30:5</td>\n      <td>2.0</td>\n      <td>20160321.0</td>\n      <td>20160322.0</td>\n    </tr>\n    <tr>\n      <th>1754880</th>\n      <td>212662</td>\n      <td>3021</td>\n      <td>3739.0</td>\n      <td>30:1</td>\n      <td>6.0</td>\n      <td>20160508.0</td>\n      <td>20160602.0</td>\n    </tr>\n    <tr>\n      <th>1754882</th>\n      <td>752472</td>\n      <td>7113</td>\n      <td>1633.0</td>\n      <td>50:10</td>\n      <td>6.0</td>\n      <td>20160613.0</td>\n      <td>NaN</td>\n    </tr>\n    <tr>\n      <th>1754883</th>\n      <td>752472</td>\n      <td>3621</td>\n      <td>2705.0</td>\n      <td>20:5</td>\n      <td>0.0</td>\n      <td>20160523.0</td>\n      <td>NaN</td>\n    </tr>\n  </tbody>\n</table>\n<p>1053282 rows × 7 columns</p>\n</div>"
     },
     "execution_count": 3,
     "metadata": {},
     "output_type": "execute_result"
    }
   ],
   "source": [
    "offline_notNull"
   ]
  },
  {
   "cell_type": "markdown",
   "metadata": {},
   "source": [
    "These 1,053,282 is our predict datas\n",
    "## The coupon classification"
   ]
  },
  {
   "cell_type": "code",
   "execution_count": 4,
   "metadata": {},
   "outputs": [],
   "source": [
    "temp = offline_notNull\n",
    "coupon_consume = temp[temp.Date.notnull()]\n",
    "coupon_no_consume = temp[temp.Date.isnull()]\n",
    "Ordinary_Consumption = offline[offline.Date.notnull() & offline.Date_received.isnull()]"
   ]
  },
  {
   "cell_type": "markdown",
   "metadata": {},
   "source": [
    "The following sell provide the `coupon_consume` dataset preview (in DataShell)"
   ]
  },
  {
   "cell_type": "code",
   "execution_count": 5,
   "metadata": {},
   "outputs": [
    {
     "data": {
      "text/plain": "         User_id  Merchant_id  Coupon_id Discount_rate  Distance  \\\n6        1439408         2632     8591.0          20:1       0.0   \n33       1113008         1361    11166.0          20:1       0.0   \n38       2881376         8390     7531.0          20:5       0.0   \n69        114747         6901     2366.0          30:5       0.0   \n75        114747         5341      111.0          30:5       0.0   \n...          ...          ...        ...           ...       ...   \n1754833  1437872         7706      416.0        100:10       4.0   \n1754873   212662         2934     5686.0          30:5       2.0   \n1754877   212662         3021     3739.0          30:1       6.0   \n1754878   212662         2934     5686.0          30:5       2.0   \n1754880   212662         3021     3739.0          30:1       6.0   \n\n         Date_received        Date  \n6           20160516.0  20160613.0  \n33          20160515.0  20160521.0  \n38          20160321.0  20160329.0  \n69          20160523.0  20160605.0  \n75          20160127.0  20160221.0  \n...                ...         ...  \n1754833     20160129.0  20160202.0  \n1754873     20160321.0  20160330.0  \n1754877     20160504.0  20160508.0  \n1754878     20160321.0  20160322.0  \n1754880     20160508.0  20160602.0  \n\n[75382 rows x 7 columns]",
      "text/html": "<div>\n<style scoped>\n    .dataframe tbody tr th:only-of-type {\n        vertical-align: middle;\n    }\n\n    .dataframe tbody tr th {\n        vertical-align: top;\n    }\n\n    .dataframe thead th {\n        text-align: right;\n    }\n</style>\n<table border=\"1\" class=\"dataframe\">\n  <thead>\n    <tr style=\"text-align: right;\">\n      <th></th>\n      <th>User_id</th>\n      <th>Merchant_id</th>\n      <th>Coupon_id</th>\n      <th>Discount_rate</th>\n      <th>Distance</th>\n      <th>Date_received</th>\n      <th>Date</th>\n    </tr>\n  </thead>\n  <tbody>\n    <tr>\n      <th>6</th>\n      <td>1439408</td>\n      <td>2632</td>\n      <td>8591.0</td>\n      <td>20:1</td>\n      <td>0.0</td>\n      <td>20160516.0</td>\n      <td>20160613.0</td>\n    </tr>\n    <tr>\n      <th>33</th>\n      <td>1113008</td>\n      <td>1361</td>\n      <td>11166.0</td>\n      <td>20:1</td>\n      <td>0.0</td>\n      <td>20160515.0</td>\n      <td>20160521.0</td>\n    </tr>\n    <tr>\n      <th>38</th>\n      <td>2881376</td>\n      <td>8390</td>\n      <td>7531.0</td>\n      <td>20:5</td>\n      <td>0.0</td>\n      <td>20160321.0</td>\n      <td>20160329.0</td>\n    </tr>\n    <tr>\n      <th>69</th>\n      <td>114747</td>\n      <td>6901</td>\n      <td>2366.0</td>\n      <td>30:5</td>\n      <td>0.0</td>\n      <td>20160523.0</td>\n      <td>20160605.0</td>\n    </tr>\n    <tr>\n      <th>75</th>\n      <td>114747</td>\n      <td>5341</td>\n      <td>111.0</td>\n      <td>30:5</td>\n      <td>0.0</td>\n      <td>20160127.0</td>\n      <td>20160221.0</td>\n    </tr>\n    <tr>\n      <th>...</th>\n      <td>...</td>\n      <td>...</td>\n      <td>...</td>\n      <td>...</td>\n      <td>...</td>\n      <td>...</td>\n      <td>...</td>\n    </tr>\n    <tr>\n      <th>1754833</th>\n      <td>1437872</td>\n      <td>7706</td>\n      <td>416.0</td>\n      <td>100:10</td>\n      <td>4.0</td>\n      <td>20160129.0</td>\n      <td>20160202.0</td>\n    </tr>\n    <tr>\n      <th>1754873</th>\n      <td>212662</td>\n      <td>2934</td>\n      <td>5686.0</td>\n      <td>30:5</td>\n      <td>2.0</td>\n      <td>20160321.0</td>\n      <td>20160330.0</td>\n    </tr>\n    <tr>\n      <th>1754877</th>\n      <td>212662</td>\n      <td>3021</td>\n      <td>3739.0</td>\n      <td>30:1</td>\n      <td>6.0</td>\n      <td>20160504.0</td>\n      <td>20160508.0</td>\n    </tr>\n    <tr>\n      <th>1754878</th>\n      <td>212662</td>\n      <td>2934</td>\n      <td>5686.0</td>\n      <td>30:5</td>\n      <td>2.0</td>\n      <td>20160321.0</td>\n      <td>20160322.0</td>\n    </tr>\n    <tr>\n      <th>1754880</th>\n      <td>212662</td>\n      <td>3021</td>\n      <td>3739.0</td>\n      <td>30:1</td>\n      <td>6.0</td>\n      <td>20160508.0</td>\n      <td>20160602.0</td>\n    </tr>\n  </tbody>\n</table>\n<p>75382 rows × 7 columns</p>\n</div>"
     },
     "execution_count": 5,
     "metadata": {},
     "output_type": "execute_result"
    }
   ],
   "source": [
    "coupon_consume"
   ]
  },
  {
   "cell_type": "markdown",
   "metadata": {},
   "source": [
    "The following sell provide the `conupon_no_consume` dataset preview (in Datashell)"
   ]
  },
  {
   "cell_type": "code",
   "execution_count": 6,
   "metadata": {},
   "outputs": [
    {
     "data": {
      "text/plain": "         User_id  Merchant_id  Coupon_id Discount_rate  Distance  \\\n1        1439408         4663    11002.0        150:20       1.0   \n2        1439408         2632     8591.0          20:1       0.0   \n3        1439408         2632     1078.0          20:1       0.0   \n4        1439408         2632     8591.0          20:1       0.0   \n7        1832624         3381     7610.0        200:20       0.0   \n...          ...          ...        ...           ...       ...   \n1754866  3795296         5341      111.0          30:5       0.0   \n1754869   188086         6568     4723.0          30:1       0.0   \n1754876   212662         3532     5267.0          30:5       1.0   \n1754882   752472         7113     1633.0         50:10       6.0   \n1754883   752472         3621     2705.0          20:5       0.0   \n\n         Date_received  Date  \n1           20160528.0   NaN  \n2           20160217.0   NaN  \n3           20160319.0   NaN  \n4           20160613.0   NaN  \n7           20160429.0   NaN  \n...                ...   ...  \n1754866     20160129.0   NaN  \n1754869     20160415.0   NaN  \n1754876     20160322.0   NaN  \n1754882     20160613.0   NaN  \n1754883     20160523.0   NaN  \n\n[977900 rows x 7 columns]",
      "text/html": "<div>\n<style scoped>\n    .dataframe tbody tr th:only-of-type {\n        vertical-align: middle;\n    }\n\n    .dataframe tbody tr th {\n        vertical-align: top;\n    }\n\n    .dataframe thead th {\n        text-align: right;\n    }\n</style>\n<table border=\"1\" class=\"dataframe\">\n  <thead>\n    <tr style=\"text-align: right;\">\n      <th></th>\n      <th>User_id</th>\n      <th>Merchant_id</th>\n      <th>Coupon_id</th>\n      <th>Discount_rate</th>\n      <th>Distance</th>\n      <th>Date_received</th>\n      <th>Date</th>\n    </tr>\n  </thead>\n  <tbody>\n    <tr>\n      <th>1</th>\n      <td>1439408</td>\n      <td>4663</td>\n      <td>11002.0</td>\n      <td>150:20</td>\n      <td>1.0</td>\n      <td>20160528.0</td>\n      <td>NaN</td>\n    </tr>\n    <tr>\n      <th>2</th>\n      <td>1439408</td>\n      <td>2632</td>\n      <td>8591.0</td>\n      <td>20:1</td>\n      <td>0.0</td>\n      <td>20160217.0</td>\n      <td>NaN</td>\n    </tr>\n    <tr>\n      <th>3</th>\n      <td>1439408</td>\n      <td>2632</td>\n      <td>1078.0</td>\n      <td>20:1</td>\n      <td>0.0</td>\n      <td>20160319.0</td>\n      <td>NaN</td>\n    </tr>\n    <tr>\n      <th>4</th>\n      <td>1439408</td>\n      <td>2632</td>\n      <td>8591.0</td>\n      <td>20:1</td>\n      <td>0.0</td>\n      <td>20160613.0</td>\n      <td>NaN</td>\n    </tr>\n    <tr>\n      <th>7</th>\n      <td>1832624</td>\n      <td>3381</td>\n      <td>7610.0</td>\n      <td>200:20</td>\n      <td>0.0</td>\n      <td>20160429.0</td>\n      <td>NaN</td>\n    </tr>\n    <tr>\n      <th>...</th>\n      <td>...</td>\n      <td>...</td>\n      <td>...</td>\n      <td>...</td>\n      <td>...</td>\n      <td>...</td>\n      <td>...</td>\n    </tr>\n    <tr>\n      <th>1754866</th>\n      <td>3795296</td>\n      <td>5341</td>\n      <td>111.0</td>\n      <td>30:5</td>\n      <td>0.0</td>\n      <td>20160129.0</td>\n      <td>NaN</td>\n    </tr>\n    <tr>\n      <th>1754869</th>\n      <td>188086</td>\n      <td>6568</td>\n      <td>4723.0</td>\n      <td>30:1</td>\n      <td>0.0</td>\n      <td>20160415.0</td>\n      <td>NaN</td>\n    </tr>\n    <tr>\n      <th>1754876</th>\n      <td>212662</td>\n      <td>3532</td>\n      <td>5267.0</td>\n      <td>30:5</td>\n      <td>1.0</td>\n      <td>20160322.0</td>\n      <td>NaN</td>\n    </tr>\n    <tr>\n      <th>1754882</th>\n      <td>752472</td>\n      <td>7113</td>\n      <td>1633.0</td>\n      <td>50:10</td>\n      <td>6.0</td>\n      <td>20160613.0</td>\n      <td>NaN</td>\n    </tr>\n    <tr>\n      <th>1754883</th>\n      <td>752472</td>\n      <td>3621</td>\n      <td>2705.0</td>\n      <td>20:5</td>\n      <td>0.0</td>\n      <td>20160523.0</td>\n      <td>NaN</td>\n    </tr>\n  </tbody>\n</table>\n<p>977900 rows × 7 columns</p>\n</div>"
     },
     "execution_count": 6,
     "metadata": {},
     "output_type": "execute_result"
    }
   ],
   "source": [
    "coupon_no_consume"
   ]
  },
  {
   "cell_type": "markdown",
   "source": [
    "The following sell provide the `Ordinary_Consumption` dataset preview (in Datashell)"
   ],
   "metadata": {
    "collapsed": false
   }
  },
  {
   "cell_type": "code",
   "execution_count": 7,
   "outputs": [
    {
     "data": {
      "text/plain": "         User_id  Merchant_id  Coupon_id Discount_rate  Distance  \\\n0        1439408         2632        NaN           NaN       0.0   \n5        1439408         2632        NaN           NaN       0.0   \n11       2029232         6459        NaN           NaN       0.0   \n12       2029232         6459        NaN           NaN       0.0   \n14        196342         1579        NaN           NaN       1.0   \n...          ...          ...        ...           ...       ...   \n1754872   212662         3532        NaN           NaN       1.0   \n1754874   212662         2934        NaN           NaN       2.0   \n1754875   212662         2934        NaN           NaN       2.0   \n1754879   212662         3532        NaN           NaN       1.0   \n1754881   212662         2934        NaN           NaN       2.0   \n\n         Date_received        Date  \n0                  NaN  20160217.0  \n5                  NaN  20160516.0  \n11                 NaN  20160626.0  \n12                 NaN  20160519.0  \n14                 NaN  20160606.0  \n...                ...         ...  \n1754872            NaN  20160308.0  \n1754874            NaN  20160513.0  \n1754875            NaN  20160512.0  \n1754879            NaN  20160322.0  \n1754881            NaN  20160321.0  \n\n[701602 rows x 7 columns]",
      "text/html": "<div>\n<style scoped>\n    .dataframe tbody tr th:only-of-type {\n        vertical-align: middle;\n    }\n\n    .dataframe tbody tr th {\n        vertical-align: top;\n    }\n\n    .dataframe thead th {\n        text-align: right;\n    }\n</style>\n<table border=\"1\" class=\"dataframe\">\n  <thead>\n    <tr style=\"text-align: right;\">\n      <th></th>\n      <th>User_id</th>\n      <th>Merchant_id</th>\n      <th>Coupon_id</th>\n      <th>Discount_rate</th>\n      <th>Distance</th>\n      <th>Date_received</th>\n      <th>Date</th>\n    </tr>\n  </thead>\n  <tbody>\n    <tr>\n      <th>0</th>\n      <td>1439408</td>\n      <td>2632</td>\n      <td>NaN</td>\n      <td>NaN</td>\n      <td>0.0</td>\n      <td>NaN</td>\n      <td>20160217.0</td>\n    </tr>\n    <tr>\n      <th>5</th>\n      <td>1439408</td>\n      <td>2632</td>\n      <td>NaN</td>\n      <td>NaN</td>\n      <td>0.0</td>\n      <td>NaN</td>\n      <td>20160516.0</td>\n    </tr>\n    <tr>\n      <th>11</th>\n      <td>2029232</td>\n      <td>6459</td>\n      <td>NaN</td>\n      <td>NaN</td>\n      <td>0.0</td>\n      <td>NaN</td>\n      <td>20160626.0</td>\n    </tr>\n    <tr>\n      <th>12</th>\n      <td>2029232</td>\n      <td>6459</td>\n      <td>NaN</td>\n      <td>NaN</td>\n      <td>0.0</td>\n      <td>NaN</td>\n      <td>20160519.0</td>\n    </tr>\n    <tr>\n      <th>14</th>\n      <td>196342</td>\n      <td>1579</td>\n      <td>NaN</td>\n      <td>NaN</td>\n      <td>1.0</td>\n      <td>NaN</td>\n      <td>20160606.0</td>\n    </tr>\n    <tr>\n      <th>...</th>\n      <td>...</td>\n      <td>...</td>\n      <td>...</td>\n      <td>...</td>\n      <td>...</td>\n      <td>...</td>\n      <td>...</td>\n    </tr>\n    <tr>\n      <th>1754872</th>\n      <td>212662</td>\n      <td>3532</td>\n      <td>NaN</td>\n      <td>NaN</td>\n      <td>1.0</td>\n      <td>NaN</td>\n      <td>20160308.0</td>\n    </tr>\n    <tr>\n      <th>1754874</th>\n      <td>212662</td>\n      <td>2934</td>\n      <td>NaN</td>\n      <td>NaN</td>\n      <td>2.0</td>\n      <td>NaN</td>\n      <td>20160513.0</td>\n    </tr>\n    <tr>\n      <th>1754875</th>\n      <td>212662</td>\n      <td>2934</td>\n      <td>NaN</td>\n      <td>NaN</td>\n      <td>2.0</td>\n      <td>NaN</td>\n      <td>20160512.0</td>\n    </tr>\n    <tr>\n      <th>1754879</th>\n      <td>212662</td>\n      <td>3532</td>\n      <td>NaN</td>\n      <td>NaN</td>\n      <td>1.0</td>\n      <td>NaN</td>\n      <td>20160322.0</td>\n    </tr>\n    <tr>\n      <th>1754881</th>\n      <td>212662</td>\n      <td>2934</td>\n      <td>NaN</td>\n      <td>NaN</td>\n      <td>2.0</td>\n      <td>NaN</td>\n      <td>20160321.0</td>\n    </tr>\n  </tbody>\n</table>\n<p>701602 rows × 7 columns</p>\n</div>"
     },
     "execution_count": 7,
     "metadata": {},
     "output_type": "execute_result"
    }
   ],
   "source": [
    "Ordinary_Consumption"
   ],
   "metadata": {
    "collapsed": false
   }
  },
  {
   "cell_type": "markdown",
   "metadata": {},
   "source": [
    "## 1. Customer Feature selection\n",
    "\n",
    "Customer is the main entity of the trade, therefore, some features about them is extremely important.\n",
    "\n",
    "It seems that some the user have duplicated behaviors of a single customer.\n",
    "\n",
    "Therefore, It is very important to learn about the usage problems."
   ]
  },
  {
   "cell_type": "code",
   "execution_count": 8,
   "metadata": {},
   "outputs": [
    {
     "data": {
      "text/plain": "       User_id  u1\n0          184   1\n1          417   1\n2          687   2\n3          696   4\n4          947   2\n...        ...  ..\n46390  7360797   1\n46391  7360845   1\n46392  7360863   1\n46393  7360928   1\n46394  7360941   2\n\n[46395 rows x 2 columns]",
      "text/html": "<div>\n<style scoped>\n    .dataframe tbody tr th:only-of-type {\n        vertical-align: middle;\n    }\n\n    .dataframe tbody tr th {\n        vertical-align: top;\n    }\n\n    .dataframe thead th {\n        text-align: right;\n    }\n</style>\n<table border=\"1\" class=\"dataframe\">\n  <thead>\n    <tr style=\"text-align: right;\">\n      <th></th>\n      <th>User_id</th>\n      <th>u1</th>\n    </tr>\n  </thead>\n  <tbody>\n    <tr>\n      <th>0</th>\n      <td>184</td>\n      <td>1</td>\n    </tr>\n    <tr>\n      <th>1</th>\n      <td>417</td>\n      <td>1</td>\n    </tr>\n    <tr>\n      <th>2</th>\n      <td>687</td>\n      <td>2</td>\n    </tr>\n    <tr>\n      <th>3</th>\n      <td>696</td>\n      <td>4</td>\n    </tr>\n    <tr>\n      <th>4</th>\n      <td>947</td>\n      <td>2</td>\n    </tr>\n    <tr>\n      <th>...</th>\n      <td>...</td>\n      <td>...</td>\n    </tr>\n    <tr>\n      <th>46390</th>\n      <td>7360797</td>\n      <td>1</td>\n    </tr>\n    <tr>\n      <th>46391</th>\n      <td>7360845</td>\n      <td>1</td>\n    </tr>\n    <tr>\n      <th>46392</th>\n      <td>7360863</td>\n      <td>1</td>\n    </tr>\n    <tr>\n      <th>46393</th>\n      <td>7360928</td>\n      <td>1</td>\n    </tr>\n    <tr>\n      <th>46394</th>\n      <td>7360941</td>\n      <td>2</td>\n    </tr>\n  </tbody>\n</table>\n<p>46395 rows × 2 columns</p>\n</div>"
     },
     "execution_count": 8,
     "metadata": {},
     "output_type": "execute_result"
    }
   ],
   "source": [
    "# Frequency of use\n",
    "temp = coupon_consume.groupby('User_id').size().reset_index(name='u1')\n",
    "X = temp\n",
    "X"
   ]
  },
  {
   "cell_type": "markdown",
   "metadata": {},
   "source": [
    "Also, the frequency of not using is also worth being focused."
   ]
  },
  {
   "cell_type": "code",
   "execution_count": 9,
   "metadata": {},
   "outputs": [
    {
     "data": {
      "text/plain": "       User_id  u1   u2\n0          184   1  1.0\n1          417   1  4.0\n2          687   2  6.0\n3          696   4  5.0\n4          947   2  4.0\n...        ...  ..  ...\n46390  7360797   1  2.0\n46391  7360845   1  2.0\n46392  7360863   1  2.0\n46393  7360928   1  2.0\n46394  7360941   2  NaN\n\n[46395 rows x 3 columns]",
      "text/html": "<div>\n<style scoped>\n    .dataframe tbody tr th:only-of-type {\n        vertical-align: middle;\n    }\n\n    .dataframe tbody tr th {\n        vertical-align: top;\n    }\n\n    .dataframe thead th {\n        text-align: right;\n    }\n</style>\n<table border=\"1\" class=\"dataframe\">\n  <thead>\n    <tr style=\"text-align: right;\">\n      <th></th>\n      <th>User_id</th>\n      <th>u1</th>\n      <th>u2</th>\n    </tr>\n  </thead>\n  <tbody>\n    <tr>\n      <th>0</th>\n      <td>184</td>\n      <td>1</td>\n      <td>1.0</td>\n    </tr>\n    <tr>\n      <th>1</th>\n      <td>417</td>\n      <td>1</td>\n      <td>4.0</td>\n    </tr>\n    <tr>\n      <th>2</th>\n      <td>687</td>\n      <td>2</td>\n      <td>6.0</td>\n    </tr>\n    <tr>\n      <th>3</th>\n      <td>696</td>\n      <td>4</td>\n      <td>5.0</td>\n    </tr>\n    <tr>\n      <th>4</th>\n      <td>947</td>\n      <td>2</td>\n      <td>4.0</td>\n    </tr>\n    <tr>\n      <th>...</th>\n      <td>...</td>\n      <td>...</td>\n      <td>...</td>\n    </tr>\n    <tr>\n      <th>46390</th>\n      <td>7360797</td>\n      <td>1</td>\n      <td>2.0</td>\n    </tr>\n    <tr>\n      <th>46391</th>\n      <td>7360845</td>\n      <td>1</td>\n      <td>2.0</td>\n    </tr>\n    <tr>\n      <th>46392</th>\n      <td>7360863</td>\n      <td>1</td>\n      <td>2.0</td>\n    </tr>\n    <tr>\n      <th>46393</th>\n      <td>7360928</td>\n      <td>1</td>\n      <td>2.0</td>\n    </tr>\n    <tr>\n      <th>46394</th>\n      <td>7360941</td>\n      <td>2</td>\n      <td>NaN</td>\n    </tr>\n  </tbody>\n</table>\n<p>46395 rows × 3 columns</p>\n</div>"
     },
     "execution_count": 9,
     "metadata": {},
     "output_type": "execute_result"
    }
   ],
   "source": [
    "# frequency of not use\n",
    "temp = coupon_no_consume.groupby('User_id').size().reset_index(name='u2')\n",
    "X = pd.merge(X, temp, how='left',on='User_id')\n",
    "X"
   ]
  },
  {
   "cell_type": "markdown",
   "metadata": {},
   "source": [
    "Leave the NaN in the dataset, It will have the other usage"
   ]
  },
  {
   "cell_type": "code",
   "execution_count": 10,
   "metadata": {},
   "outputs": [
    {
     "data": {
      "text/plain": "       User_id  u1   u2   u3\n0          184   1  1.0  2.0\n1          417   1  4.0  5.0\n2          687   2  6.0  8.0\n3          696   4  5.0  9.0\n4          947   2  4.0  6.0\n...        ...  ..  ...  ...\n46390  7360797   1  2.0  3.0\n46391  7360845   1  2.0  3.0\n46392  7360863   1  2.0  3.0\n46393  7360928   1  2.0  3.0\n46394  7360941   2  NaN  2.0\n\n[46395 rows x 4 columns]",
      "text/html": "<div>\n<style scoped>\n    .dataframe tbody tr th:only-of-type {\n        vertical-align: middle;\n    }\n\n    .dataframe tbody tr th {\n        vertical-align: top;\n    }\n\n    .dataframe thead th {\n        text-align: right;\n    }\n</style>\n<table border=\"1\" class=\"dataframe\">\n  <thead>\n    <tr style=\"text-align: right;\">\n      <th></th>\n      <th>User_id</th>\n      <th>u1</th>\n      <th>u2</th>\n      <th>u3</th>\n    </tr>\n  </thead>\n  <tbody>\n    <tr>\n      <th>0</th>\n      <td>184</td>\n      <td>1</td>\n      <td>1.0</td>\n      <td>2.0</td>\n    </tr>\n    <tr>\n      <th>1</th>\n      <td>417</td>\n      <td>1</td>\n      <td>4.0</td>\n      <td>5.0</td>\n    </tr>\n    <tr>\n      <th>2</th>\n      <td>687</td>\n      <td>2</td>\n      <td>6.0</td>\n      <td>8.0</td>\n    </tr>\n    <tr>\n      <th>3</th>\n      <td>696</td>\n      <td>4</td>\n      <td>5.0</td>\n      <td>9.0</td>\n    </tr>\n    <tr>\n      <th>4</th>\n      <td>947</td>\n      <td>2</td>\n      <td>4.0</td>\n      <td>6.0</td>\n    </tr>\n    <tr>\n      <th>...</th>\n      <td>...</td>\n      <td>...</td>\n      <td>...</td>\n      <td>...</td>\n    </tr>\n    <tr>\n      <th>46390</th>\n      <td>7360797</td>\n      <td>1</td>\n      <td>2.0</td>\n      <td>3.0</td>\n    </tr>\n    <tr>\n      <th>46391</th>\n      <td>7360845</td>\n      <td>1</td>\n      <td>2.0</td>\n      <td>3.0</td>\n    </tr>\n    <tr>\n      <th>46392</th>\n      <td>7360863</td>\n      <td>1</td>\n      <td>2.0</td>\n      <td>3.0</td>\n    </tr>\n    <tr>\n      <th>46393</th>\n      <td>7360928</td>\n      <td>1</td>\n      <td>2.0</td>\n      <td>3.0</td>\n    </tr>\n    <tr>\n      <th>46394</th>\n      <td>7360941</td>\n      <td>2</td>\n      <td>NaN</td>\n      <td>2.0</td>\n    </tr>\n  </tbody>\n</table>\n<p>46395 rows × 4 columns</p>\n</div>"
     },
     "execution_count": 10,
     "metadata": {},
     "output_type": "execute_result"
    }
   ],
   "source": [
    "# What is the percentage that the user collect the coupon?\n",
    "X['u3'] = X.u1.fillna(0) + X.u2.fillna(0)\n",
    "X"
   ]
  },
  {
   "cell_type": "code",
   "execution_count": 11,
   "metadata": {},
   "outputs": [
    {
     "data": {
      "text/plain": "       User_id  u1   u2   u3        u4\n0          184   1  1.0  2.0  0.500000\n1          417   1  4.0  5.0  0.200000\n2          687   2  6.0  8.0  0.250000\n3          696   4  5.0  9.0  0.444444\n4          947   2  4.0  6.0  0.333333\n...        ...  ..  ...  ...       ...\n46390  7360797   1  2.0  3.0  0.333333\n46391  7360845   1  2.0  3.0  0.333333\n46392  7360863   1  2.0  3.0  0.333333\n46393  7360928   1  2.0  3.0  0.333333\n46394  7360941   2  NaN  2.0  1.000000\n\n[46395 rows x 5 columns]",
      "text/html": "<div>\n<style scoped>\n    .dataframe tbody tr th:only-of-type {\n        vertical-align: middle;\n    }\n\n    .dataframe tbody tr th {\n        vertical-align: top;\n    }\n\n    .dataframe thead th {\n        text-align: right;\n    }\n</style>\n<table border=\"1\" class=\"dataframe\">\n  <thead>\n    <tr style=\"text-align: right;\">\n      <th></th>\n      <th>User_id</th>\n      <th>u1</th>\n      <th>u2</th>\n      <th>u3</th>\n      <th>u4</th>\n    </tr>\n  </thead>\n  <tbody>\n    <tr>\n      <th>0</th>\n      <td>184</td>\n      <td>1</td>\n      <td>1.0</td>\n      <td>2.0</td>\n      <td>0.500000</td>\n    </tr>\n    <tr>\n      <th>1</th>\n      <td>417</td>\n      <td>1</td>\n      <td>4.0</td>\n      <td>5.0</td>\n      <td>0.200000</td>\n    </tr>\n    <tr>\n      <th>2</th>\n      <td>687</td>\n      <td>2</td>\n      <td>6.0</td>\n      <td>8.0</td>\n      <td>0.250000</td>\n    </tr>\n    <tr>\n      <th>3</th>\n      <td>696</td>\n      <td>4</td>\n      <td>5.0</td>\n      <td>9.0</td>\n      <td>0.444444</td>\n    </tr>\n    <tr>\n      <th>4</th>\n      <td>947</td>\n      <td>2</td>\n      <td>4.0</td>\n      <td>6.0</td>\n      <td>0.333333</td>\n    </tr>\n    <tr>\n      <th>...</th>\n      <td>...</td>\n      <td>...</td>\n      <td>...</td>\n      <td>...</td>\n      <td>...</td>\n    </tr>\n    <tr>\n      <th>46390</th>\n      <td>7360797</td>\n      <td>1</td>\n      <td>2.0</td>\n      <td>3.0</td>\n      <td>0.333333</td>\n    </tr>\n    <tr>\n      <th>46391</th>\n      <td>7360845</td>\n      <td>1</td>\n      <td>2.0</td>\n      <td>3.0</td>\n      <td>0.333333</td>\n    </tr>\n    <tr>\n      <th>46392</th>\n      <td>7360863</td>\n      <td>1</td>\n      <td>2.0</td>\n      <td>3.0</td>\n      <td>0.333333</td>\n    </tr>\n    <tr>\n      <th>46393</th>\n      <td>7360928</td>\n      <td>1</td>\n      <td>2.0</td>\n      <td>3.0</td>\n      <td>0.333333</td>\n    </tr>\n    <tr>\n      <th>46394</th>\n      <td>7360941</td>\n      <td>2</td>\n      <td>NaN</td>\n      <td>2.0</td>\n      <td>1.000000</td>\n    </tr>\n  </tbody>\n</table>\n<p>46395 rows × 5 columns</p>\n</div>"
     },
     "execution_count": 11,
     "metadata": {},
     "output_type": "execute_result"
    }
   ],
   "source": [
    "# What is the percentage that the user use their coupon?\n",
    "X['u4'] = X.u1 / X.u3\n",
    "X"
   ]
  },
  {
   "cell_type": "code",
   "execution_count": 12,
   "metadata": {},
   "outputs": [
    {
     "data": {
      "text/plain": "       User_id  u1   u2   u3        u4        u5\n0          184   1  1.0  2.0  0.500000  0.500000\n1          417   1  4.0  5.0  0.200000  0.800000\n2          687   2  6.0  8.0  0.250000  0.750000\n3          696   4  5.0  9.0  0.444444  0.555556\n4          947   2  4.0  6.0  0.333333  0.666667\n...        ...  ..  ...  ...       ...       ...\n46390  7360797   1  2.0  3.0  0.333333  0.666667\n46391  7360845   1  2.0  3.0  0.333333  0.666667\n46392  7360863   1  2.0  3.0  0.333333  0.666667\n46393  7360928   1  2.0  3.0  0.333333  0.666667\n46394  7360941   2  NaN  2.0  1.000000  0.000000\n\n[46395 rows x 6 columns]",
      "text/html": "<div>\n<style scoped>\n    .dataframe tbody tr th:only-of-type {\n        vertical-align: middle;\n    }\n\n    .dataframe tbody tr th {\n        vertical-align: top;\n    }\n\n    .dataframe thead th {\n        text-align: right;\n    }\n</style>\n<table border=\"1\" class=\"dataframe\">\n  <thead>\n    <tr style=\"text-align: right;\">\n      <th></th>\n      <th>User_id</th>\n      <th>u1</th>\n      <th>u2</th>\n      <th>u3</th>\n      <th>u4</th>\n      <th>u5</th>\n    </tr>\n  </thead>\n  <tbody>\n    <tr>\n      <th>0</th>\n      <td>184</td>\n      <td>1</td>\n      <td>1.0</td>\n      <td>2.0</td>\n      <td>0.500000</td>\n      <td>0.500000</td>\n    </tr>\n    <tr>\n      <th>1</th>\n      <td>417</td>\n      <td>1</td>\n      <td>4.0</td>\n      <td>5.0</td>\n      <td>0.200000</td>\n      <td>0.800000</td>\n    </tr>\n    <tr>\n      <th>2</th>\n      <td>687</td>\n      <td>2</td>\n      <td>6.0</td>\n      <td>8.0</td>\n      <td>0.250000</td>\n      <td>0.750000</td>\n    </tr>\n    <tr>\n      <th>3</th>\n      <td>696</td>\n      <td>4</td>\n      <td>5.0</td>\n      <td>9.0</td>\n      <td>0.444444</td>\n      <td>0.555556</td>\n    </tr>\n    <tr>\n      <th>4</th>\n      <td>947</td>\n      <td>2</td>\n      <td>4.0</td>\n      <td>6.0</td>\n      <td>0.333333</td>\n      <td>0.666667</td>\n    </tr>\n    <tr>\n      <th>...</th>\n      <td>...</td>\n      <td>...</td>\n      <td>...</td>\n      <td>...</td>\n      <td>...</td>\n      <td>...</td>\n    </tr>\n    <tr>\n      <th>46390</th>\n      <td>7360797</td>\n      <td>1</td>\n      <td>2.0</td>\n      <td>3.0</td>\n      <td>0.333333</td>\n      <td>0.666667</td>\n    </tr>\n    <tr>\n      <th>46391</th>\n      <td>7360845</td>\n      <td>1</td>\n      <td>2.0</td>\n      <td>3.0</td>\n      <td>0.333333</td>\n      <td>0.666667</td>\n    </tr>\n    <tr>\n      <th>46392</th>\n      <td>7360863</td>\n      <td>1</td>\n      <td>2.0</td>\n      <td>3.0</td>\n      <td>0.333333</td>\n      <td>0.666667</td>\n    </tr>\n    <tr>\n      <th>46393</th>\n      <td>7360928</td>\n      <td>1</td>\n      <td>2.0</td>\n      <td>3.0</td>\n      <td>0.333333</td>\n      <td>0.666667</td>\n    </tr>\n    <tr>\n      <th>46394</th>\n      <td>7360941</td>\n      <td>2</td>\n      <td>NaN</td>\n      <td>2.0</td>\n      <td>1.000000</td>\n      <td>0.000000</td>\n    </tr>\n  </tbody>\n</table>\n<p>46395 rows × 6 columns</p>\n</div>"
     },
     "execution_count": 12,
     "metadata": {},
     "output_type": "execute_result"
    }
   ],
   "source": [
    "# The opposite: What is the percentage that the user won't use their coupon?\n",
    "X ['u5'] = X.u2 / X.u3\n",
    "X['u5'].fillna(0.0, inplace=True)\n",
    "X"
   ]
  },
  {
   "cell_type": "markdown",
   "metadata": {},
   "source": [
    "Interesting, these features is calculating the coupon's feature, However, how about their ordinary consumption??"
   ]
  },
  {
   "cell_type": "code",
   "execution_count": 13,
   "metadata": {},
   "outputs": [
    {
     "data": {
      "text/plain": "       User_id  u1   u2   u3        u4        u5    u6\n0          184   1  1.0  2.0  0.500000  0.500000   NaN\n1          417   1  4.0  5.0  0.200000  0.800000   2.0\n2          687   2  6.0  8.0  0.250000  0.750000   NaN\n3          696   4  5.0  9.0  0.444444  0.555556  26.0\n4          947   2  4.0  6.0  0.333333  0.666667   5.0\n...        ...  ..  ...  ...       ...       ...   ...\n46390  7360797   1  2.0  3.0  0.333333  0.666667   2.0\n46391  7360845   1  2.0  3.0  0.333333  0.666667   NaN\n46392  7360863   1  2.0  3.0  0.333333  0.666667   2.0\n46393  7360928   1  2.0  3.0  0.333333  0.666667   6.0\n46394  7360941   2  NaN  2.0  1.000000  0.000000   1.0\n\n[46395 rows x 7 columns]",
      "text/html": "<div>\n<style scoped>\n    .dataframe tbody tr th:only-of-type {\n        vertical-align: middle;\n    }\n\n    .dataframe tbody tr th {\n        vertical-align: top;\n    }\n\n    .dataframe thead th {\n        text-align: right;\n    }\n</style>\n<table border=\"1\" class=\"dataframe\">\n  <thead>\n    <tr style=\"text-align: right;\">\n      <th></th>\n      <th>User_id</th>\n      <th>u1</th>\n      <th>u2</th>\n      <th>u3</th>\n      <th>u4</th>\n      <th>u5</th>\n      <th>u6</th>\n    </tr>\n  </thead>\n  <tbody>\n    <tr>\n      <th>0</th>\n      <td>184</td>\n      <td>1</td>\n      <td>1.0</td>\n      <td>2.0</td>\n      <td>0.500000</td>\n      <td>0.500000</td>\n      <td>NaN</td>\n    </tr>\n    <tr>\n      <th>1</th>\n      <td>417</td>\n      <td>1</td>\n      <td>4.0</td>\n      <td>5.0</td>\n      <td>0.200000</td>\n      <td>0.800000</td>\n      <td>2.0</td>\n    </tr>\n    <tr>\n      <th>2</th>\n      <td>687</td>\n      <td>2</td>\n      <td>6.0</td>\n      <td>8.0</td>\n      <td>0.250000</td>\n      <td>0.750000</td>\n      <td>NaN</td>\n    </tr>\n    <tr>\n      <th>3</th>\n      <td>696</td>\n      <td>4</td>\n      <td>5.0</td>\n      <td>9.0</td>\n      <td>0.444444</td>\n      <td>0.555556</td>\n      <td>26.0</td>\n    </tr>\n    <tr>\n      <th>4</th>\n      <td>947</td>\n      <td>2</td>\n      <td>4.0</td>\n      <td>6.0</td>\n      <td>0.333333</td>\n      <td>0.666667</td>\n      <td>5.0</td>\n    </tr>\n    <tr>\n      <th>...</th>\n      <td>...</td>\n      <td>...</td>\n      <td>...</td>\n      <td>...</td>\n      <td>...</td>\n      <td>...</td>\n      <td>...</td>\n    </tr>\n    <tr>\n      <th>46390</th>\n      <td>7360797</td>\n      <td>1</td>\n      <td>2.0</td>\n      <td>3.0</td>\n      <td>0.333333</td>\n      <td>0.666667</td>\n      <td>2.0</td>\n    </tr>\n    <tr>\n      <th>46391</th>\n      <td>7360845</td>\n      <td>1</td>\n      <td>2.0</td>\n      <td>3.0</td>\n      <td>0.333333</td>\n      <td>0.666667</td>\n      <td>NaN</td>\n    </tr>\n    <tr>\n      <th>46392</th>\n      <td>7360863</td>\n      <td>1</td>\n      <td>2.0</td>\n      <td>3.0</td>\n      <td>0.333333</td>\n      <td>0.666667</td>\n      <td>2.0</td>\n    </tr>\n    <tr>\n      <th>46393</th>\n      <td>7360928</td>\n      <td>1</td>\n      <td>2.0</td>\n      <td>3.0</td>\n      <td>0.333333</td>\n      <td>0.666667</td>\n      <td>6.0</td>\n    </tr>\n    <tr>\n      <th>46394</th>\n      <td>7360941</td>\n      <td>2</td>\n      <td>NaN</td>\n      <td>2.0</td>\n      <td>1.000000</td>\n      <td>0.000000</td>\n      <td>1.0</td>\n    </tr>\n  </tbody>\n</table>\n<p>46395 rows × 7 columns</p>\n</div>"
     },
     "execution_count": 13,
     "metadata": {},
     "output_type": "execute_result"
    }
   ],
   "source": [
    "# make a count\n",
    "temp = Ordinary_Consumption.groupby('User_id').size().reset_index(name='u6')\n",
    "X = pd.merge(X,temp,how='left',on='User_id')\n",
    "X"
   ]
  },
  {
   "cell_type": "code",
   "execution_count": 14,
   "metadata": {},
   "outputs": [
    {
     "data": {
      "text/plain": "       User_id  u1   u2   u3        u4        u5    u6    u7\n0          184   1  1.0  2.0  0.500000  0.500000   NaN   2.0\n1          417   1  4.0  5.0  0.200000  0.800000   2.0   7.0\n2          687   2  6.0  8.0  0.250000  0.750000   NaN   8.0\n3          696   4  5.0  9.0  0.444444  0.555556  26.0  35.0\n4          947   2  4.0  6.0  0.333333  0.666667   5.0  11.0\n...        ...  ..  ...  ...       ...       ...   ...   ...\n46390  7360797   1  2.0  3.0  0.333333  0.666667   2.0   5.0\n46391  7360845   1  2.0  3.0  0.333333  0.666667   NaN   3.0\n46392  7360863   1  2.0  3.0  0.333333  0.666667   2.0   5.0\n46393  7360928   1  2.0  3.0  0.333333  0.666667   6.0   9.0\n46394  7360941   2  NaN  2.0  1.000000  0.000000   1.0   3.0\n\n[46395 rows x 8 columns]",
      "text/html": "<div>\n<style scoped>\n    .dataframe tbody tr th:only-of-type {\n        vertical-align: middle;\n    }\n\n    .dataframe tbody tr th {\n        vertical-align: top;\n    }\n\n    .dataframe thead th {\n        text-align: right;\n    }\n</style>\n<table border=\"1\" class=\"dataframe\">\n  <thead>\n    <tr style=\"text-align: right;\">\n      <th></th>\n      <th>User_id</th>\n      <th>u1</th>\n      <th>u2</th>\n      <th>u3</th>\n      <th>u4</th>\n      <th>u5</th>\n      <th>u6</th>\n      <th>u7</th>\n    </tr>\n  </thead>\n  <tbody>\n    <tr>\n      <th>0</th>\n      <td>184</td>\n      <td>1</td>\n      <td>1.0</td>\n      <td>2.0</td>\n      <td>0.500000</td>\n      <td>0.500000</td>\n      <td>NaN</td>\n      <td>2.0</td>\n    </tr>\n    <tr>\n      <th>1</th>\n      <td>417</td>\n      <td>1</td>\n      <td>4.0</td>\n      <td>5.0</td>\n      <td>0.200000</td>\n      <td>0.800000</td>\n      <td>2.0</td>\n      <td>7.0</td>\n    </tr>\n    <tr>\n      <th>2</th>\n      <td>687</td>\n      <td>2</td>\n      <td>6.0</td>\n      <td>8.0</td>\n      <td>0.250000</td>\n      <td>0.750000</td>\n      <td>NaN</td>\n      <td>8.0</td>\n    </tr>\n    <tr>\n      <th>3</th>\n      <td>696</td>\n      <td>4</td>\n      <td>5.0</td>\n      <td>9.0</td>\n      <td>0.444444</td>\n      <td>0.555556</td>\n      <td>26.0</td>\n      <td>35.0</td>\n    </tr>\n    <tr>\n      <th>4</th>\n      <td>947</td>\n      <td>2</td>\n      <td>4.0</td>\n      <td>6.0</td>\n      <td>0.333333</td>\n      <td>0.666667</td>\n      <td>5.0</td>\n      <td>11.0</td>\n    </tr>\n    <tr>\n      <th>...</th>\n      <td>...</td>\n      <td>...</td>\n      <td>...</td>\n      <td>...</td>\n      <td>...</td>\n      <td>...</td>\n      <td>...</td>\n      <td>...</td>\n    </tr>\n    <tr>\n      <th>46390</th>\n      <td>7360797</td>\n      <td>1</td>\n      <td>2.0</td>\n      <td>3.0</td>\n      <td>0.333333</td>\n      <td>0.666667</td>\n      <td>2.0</td>\n      <td>5.0</td>\n    </tr>\n    <tr>\n      <th>46391</th>\n      <td>7360845</td>\n      <td>1</td>\n      <td>2.0</td>\n      <td>3.0</td>\n      <td>0.333333</td>\n      <td>0.666667</td>\n      <td>NaN</td>\n      <td>3.0</td>\n    </tr>\n    <tr>\n      <th>46392</th>\n      <td>7360863</td>\n      <td>1</td>\n      <td>2.0</td>\n      <td>3.0</td>\n      <td>0.333333</td>\n      <td>0.666667</td>\n      <td>2.0</td>\n      <td>5.0</td>\n    </tr>\n    <tr>\n      <th>46393</th>\n      <td>7360928</td>\n      <td>1</td>\n      <td>2.0</td>\n      <td>3.0</td>\n      <td>0.333333</td>\n      <td>0.666667</td>\n      <td>6.0</td>\n      <td>9.0</td>\n    </tr>\n    <tr>\n      <th>46394</th>\n      <td>7360941</td>\n      <td>2</td>\n      <td>NaN</td>\n      <td>2.0</td>\n      <td>1.000000</td>\n      <td>0.000000</td>\n      <td>1.0</td>\n      <td>3.0</td>\n    </tr>\n  </tbody>\n</table>\n<p>46395 rows × 8 columns</p>\n</div>"
     },
     "execution_count": 14,
     "metadata": {},
     "output_type": "execute_result"
    }
   ],
   "source": [
    "# How many times that the user make consumptions?\n",
    "X['u7'] = X.u3 + X.u6.fillna(0)\n",
    "X"
   ]
  },
  {
   "cell_type": "code",
   "execution_count": 15,
   "metadata": {},
   "outputs": [
    {
     "data": {
      "text/plain": "       User_id  u1   u2   u3        u4        u5    u6    u7        u8\n0          184   1  1.0  2.0  0.500000  0.500000   0.0   2.0  0.500000\n1          417   1  4.0  5.0  0.200000  0.800000   2.0   7.0  0.571429\n2          687   2  6.0  8.0  0.250000  0.750000   0.0   8.0  0.750000\n3          696   4  5.0  9.0  0.444444  0.555556  26.0  35.0  0.142857\n4          947   2  4.0  6.0  0.333333  0.666667   5.0  11.0  0.363636\n...        ...  ..  ...  ...       ...       ...   ...   ...       ...\n46390  7360797   1  2.0  3.0  0.333333  0.666667   2.0   5.0  0.400000\n46391  7360845   1  2.0  3.0  0.333333  0.666667   0.0   3.0  0.666667\n46392  7360863   1  2.0  3.0  0.333333  0.666667   2.0   5.0  0.400000\n46393  7360928   1  2.0  3.0  0.333333  0.666667   6.0   9.0  0.222222\n46394  7360941   2  0.0  2.0  1.000000  0.000000   1.0   3.0  0.000000\n\n[46395 rows x 9 columns]",
      "text/html": "<div>\n<style scoped>\n    .dataframe tbody tr th:only-of-type {\n        vertical-align: middle;\n    }\n\n    .dataframe tbody tr th {\n        vertical-align: top;\n    }\n\n    .dataframe thead th {\n        text-align: right;\n    }\n</style>\n<table border=\"1\" class=\"dataframe\">\n  <thead>\n    <tr style=\"text-align: right;\">\n      <th></th>\n      <th>User_id</th>\n      <th>u1</th>\n      <th>u2</th>\n      <th>u3</th>\n      <th>u4</th>\n      <th>u5</th>\n      <th>u6</th>\n      <th>u7</th>\n      <th>u8</th>\n    </tr>\n  </thead>\n  <tbody>\n    <tr>\n      <th>0</th>\n      <td>184</td>\n      <td>1</td>\n      <td>1.0</td>\n      <td>2.0</td>\n      <td>0.500000</td>\n      <td>0.500000</td>\n      <td>0.0</td>\n      <td>2.0</td>\n      <td>0.500000</td>\n    </tr>\n    <tr>\n      <th>1</th>\n      <td>417</td>\n      <td>1</td>\n      <td>4.0</td>\n      <td>5.0</td>\n      <td>0.200000</td>\n      <td>0.800000</td>\n      <td>2.0</td>\n      <td>7.0</td>\n      <td>0.571429</td>\n    </tr>\n    <tr>\n      <th>2</th>\n      <td>687</td>\n      <td>2</td>\n      <td>6.0</td>\n      <td>8.0</td>\n      <td>0.250000</td>\n      <td>0.750000</td>\n      <td>0.0</td>\n      <td>8.0</td>\n      <td>0.750000</td>\n    </tr>\n    <tr>\n      <th>3</th>\n      <td>696</td>\n      <td>4</td>\n      <td>5.0</td>\n      <td>9.0</td>\n      <td>0.444444</td>\n      <td>0.555556</td>\n      <td>26.0</td>\n      <td>35.0</td>\n      <td>0.142857</td>\n    </tr>\n    <tr>\n      <th>4</th>\n      <td>947</td>\n      <td>2</td>\n      <td>4.0</td>\n      <td>6.0</td>\n      <td>0.333333</td>\n      <td>0.666667</td>\n      <td>5.0</td>\n      <td>11.0</td>\n      <td>0.363636</td>\n    </tr>\n    <tr>\n      <th>...</th>\n      <td>...</td>\n      <td>...</td>\n      <td>...</td>\n      <td>...</td>\n      <td>...</td>\n      <td>...</td>\n      <td>...</td>\n      <td>...</td>\n      <td>...</td>\n    </tr>\n    <tr>\n      <th>46390</th>\n      <td>7360797</td>\n      <td>1</td>\n      <td>2.0</td>\n      <td>3.0</td>\n      <td>0.333333</td>\n      <td>0.666667</td>\n      <td>2.0</td>\n      <td>5.0</td>\n      <td>0.400000</td>\n    </tr>\n    <tr>\n      <th>46391</th>\n      <td>7360845</td>\n      <td>1</td>\n      <td>2.0</td>\n      <td>3.0</td>\n      <td>0.333333</td>\n      <td>0.666667</td>\n      <td>0.0</td>\n      <td>3.0</td>\n      <td>0.666667</td>\n    </tr>\n    <tr>\n      <th>46392</th>\n      <td>7360863</td>\n      <td>1</td>\n      <td>2.0</td>\n      <td>3.0</td>\n      <td>0.333333</td>\n      <td>0.666667</td>\n      <td>2.0</td>\n      <td>5.0</td>\n      <td>0.400000</td>\n    </tr>\n    <tr>\n      <th>46393</th>\n      <td>7360928</td>\n      <td>1</td>\n      <td>2.0</td>\n      <td>3.0</td>\n      <td>0.333333</td>\n      <td>0.666667</td>\n      <td>6.0</td>\n      <td>9.0</td>\n      <td>0.222222</td>\n    </tr>\n    <tr>\n      <th>46394</th>\n      <td>7360941</td>\n      <td>2</td>\n      <td>0.0</td>\n      <td>2.0</td>\n      <td>1.000000</td>\n      <td>0.000000</td>\n      <td>1.0</td>\n      <td>3.0</td>\n      <td>0.000000</td>\n    </tr>\n  </tbody>\n</table>\n<p>46395 rows × 9 columns</p>\n</div>"
     },
     "execution_count": 15,
     "metadata": {},
     "output_type": "execute_result"
    }
   ],
   "source": [
    "# What is the percentage that the customers use the coupon?\n",
    "X['u8'] = X.u2 / X.u7\n",
    "X.fillna(0.0, inplace=True)\n",
    "X"
   ]
  },
  {
   "cell_type": "markdown",
   "metadata": {},
   "source": [
    "We also noticed that the gap of the user's consumption may help us to identify more features about the user, like how frequently that he/she will make a consumption, the ratio of coupon usage, the frequency in a defined period(**in 15 days**),etc. we will make a digging in such features."
   ]
  },
  {
   "cell_type": "code",
   "execution_count": 16,
   "outputs": [
    {
     "name": "stderr",
     "output_type": "stream",
     "text": [
      "C:\\Users\\ugz20\\AppData\\Local\\Temp\\ipykernel_18460\\3781809539.py:3: SettingWithCopyWarning: \n",
      "A value is trying to be set on a copy of a slice from a DataFrame.\n",
      "Try using .loc[row_indexer,col_indexer] = value instead\n",
      "\n",
      "See the caveats in the documentation: https://pandas.pydata.org/pandas-docs/stable/user_guide/indexing.html#returning-a-view-versus-a-copy\n",
      "  temp['Date'] = pd.to_datetime(temp['Date'],format='%Y%m%d')\n"
     ]
    },
    {
     "data": {
      "text/plain": "       User_id  u1   u2   u3        u4        u5    u6    u7        u8  \\\n0          184   1  1.0  2.0  0.500000  0.500000   0.0   2.0  0.500000   \n1          417   1  4.0  5.0  0.200000  0.800000   2.0   7.0  0.571429   \n2          687   2  6.0  8.0  0.250000  0.750000   0.0   8.0  0.750000   \n3          696   4  5.0  9.0  0.444444  0.555556  26.0  35.0  0.142857   \n4          947   2  4.0  6.0  0.333333  0.666667   5.0  11.0  0.363636   \n...        ...  ..  ...  ...       ...       ...   ...   ...       ...   \n46390  7360797   1  2.0  3.0  0.333333  0.666667   2.0   5.0  0.400000   \n46391  7360845   1  2.0  3.0  0.333333  0.666667   0.0   3.0  0.666667   \n46392  7360863   1  2.0  3.0  0.333333  0.666667   2.0   5.0  0.400000   \n46393  7360928   1  2.0  3.0  0.333333  0.666667   6.0   9.0  0.222222   \n46394  7360941   2  0.0  2.0  1.000000  0.000000   1.0   3.0  0.000000   \n\n              u9  \n0       0.000000  \n1       7.333333  \n2      31.500000  \n3       5.600000  \n4      19.428571  \n...          ...  \n46390  32.000000  \n46391   0.000000  \n46392   9.666667  \n46393  17.428571  \n46394   0.666667  \n\n[46395 rows x 10 columns]",
      "text/html": "<div>\n<style scoped>\n    .dataframe tbody tr th:only-of-type {\n        vertical-align: middle;\n    }\n\n    .dataframe tbody tr th {\n        vertical-align: top;\n    }\n\n    .dataframe thead th {\n        text-align: right;\n    }\n</style>\n<table border=\"1\" class=\"dataframe\">\n  <thead>\n    <tr style=\"text-align: right;\">\n      <th></th>\n      <th>User_id</th>\n      <th>u1</th>\n      <th>u2</th>\n      <th>u3</th>\n      <th>u4</th>\n      <th>u5</th>\n      <th>u6</th>\n      <th>u7</th>\n      <th>u8</th>\n      <th>u9</th>\n    </tr>\n  </thead>\n  <tbody>\n    <tr>\n      <th>0</th>\n      <td>184</td>\n      <td>1</td>\n      <td>1.0</td>\n      <td>2.0</td>\n      <td>0.500000</td>\n      <td>0.500000</td>\n      <td>0.0</td>\n      <td>2.0</td>\n      <td>0.500000</td>\n      <td>0.000000</td>\n    </tr>\n    <tr>\n      <th>1</th>\n      <td>417</td>\n      <td>1</td>\n      <td>4.0</td>\n      <td>5.0</td>\n      <td>0.200000</td>\n      <td>0.800000</td>\n      <td>2.0</td>\n      <td>7.0</td>\n      <td>0.571429</td>\n      <td>7.333333</td>\n    </tr>\n    <tr>\n      <th>2</th>\n      <td>687</td>\n      <td>2</td>\n      <td>6.0</td>\n      <td>8.0</td>\n      <td>0.250000</td>\n      <td>0.750000</td>\n      <td>0.0</td>\n      <td>8.0</td>\n      <td>0.750000</td>\n      <td>31.500000</td>\n    </tr>\n    <tr>\n      <th>3</th>\n      <td>696</td>\n      <td>4</td>\n      <td>5.0</td>\n      <td>9.0</td>\n      <td>0.444444</td>\n      <td>0.555556</td>\n      <td>26.0</td>\n      <td>35.0</td>\n      <td>0.142857</td>\n      <td>5.600000</td>\n    </tr>\n    <tr>\n      <th>4</th>\n      <td>947</td>\n      <td>2</td>\n      <td>4.0</td>\n      <td>6.0</td>\n      <td>0.333333</td>\n      <td>0.666667</td>\n      <td>5.0</td>\n      <td>11.0</td>\n      <td>0.363636</td>\n      <td>19.428571</td>\n    </tr>\n    <tr>\n      <th>...</th>\n      <td>...</td>\n      <td>...</td>\n      <td>...</td>\n      <td>...</td>\n      <td>...</td>\n      <td>...</td>\n      <td>...</td>\n      <td>...</td>\n      <td>...</td>\n      <td>...</td>\n    </tr>\n    <tr>\n      <th>46390</th>\n      <td>7360797</td>\n      <td>1</td>\n      <td>2.0</td>\n      <td>3.0</td>\n      <td>0.333333</td>\n      <td>0.666667</td>\n      <td>2.0</td>\n      <td>5.0</td>\n      <td>0.400000</td>\n      <td>32.000000</td>\n    </tr>\n    <tr>\n      <th>46391</th>\n      <td>7360845</td>\n      <td>1</td>\n      <td>2.0</td>\n      <td>3.0</td>\n      <td>0.333333</td>\n      <td>0.666667</td>\n      <td>0.0</td>\n      <td>3.0</td>\n      <td>0.666667</td>\n      <td>0.000000</td>\n    </tr>\n    <tr>\n      <th>46392</th>\n      <td>7360863</td>\n      <td>1</td>\n      <td>2.0</td>\n      <td>3.0</td>\n      <td>0.333333</td>\n      <td>0.666667</td>\n      <td>2.0</td>\n      <td>5.0</td>\n      <td>0.400000</td>\n      <td>9.666667</td>\n    </tr>\n    <tr>\n      <th>46393</th>\n      <td>7360928</td>\n      <td>1</td>\n      <td>2.0</td>\n      <td>3.0</td>\n      <td>0.333333</td>\n      <td>0.666667</td>\n      <td>6.0</td>\n      <td>9.0</td>\n      <td>0.222222</td>\n      <td>17.428571</td>\n    </tr>\n    <tr>\n      <th>46394</th>\n      <td>7360941</td>\n      <td>2</td>\n      <td>0.0</td>\n      <td>2.0</td>\n      <td>1.000000</td>\n      <td>0.000000</td>\n      <td>1.0</td>\n      <td>3.0</td>\n      <td>0.000000</td>\n      <td>0.666667</td>\n    </tr>\n  </tbody>\n</table>\n<p>46395 rows × 10 columns</p>\n</div>"
     },
     "execution_count": 16,
     "metadata": {},
     "output_type": "execute_result"
    }
   ],
   "source": [
    "# first of all, how frequently that a user to make a consumption in average?\n",
    "temp = offline[offline.Date.notnull()]\n",
    "temp['Date'] = pd.to_datetime(temp['Date'],format='%Y%m%d')\n",
    "temp = pd.merge(temp, temp.groupby('User_id').Date.max().reset_index(name='_max'))\n",
    "temp = pd.merge(temp, temp.groupby('User_id').Date.min().reset_index(name='_min'))\n",
    "temp = pd.merge(temp, temp.groupby('User_id').size().reset_index(name='_len'))\n",
    "temp['u9'] = (temp._max - temp._min).dt.days / temp._len\n",
    "temp.drop_duplicates('User_id', inplace=True)\n",
    "X = pd.merge(X, temp[['User_id', 'u9']],how='left',on='User_id')\n",
    "X"
   ],
   "metadata": {
    "collapsed": false
   }
  },
  {
   "cell_type": "code",
   "execution_count": 17,
   "metadata": {},
   "outputs": [
    {
     "name": "stderr",
     "output_type": "stream",
     "text": [
      "C:\\Users\\ugz20\\AppData\\Local\\Temp\\ipykernel_18460\\2482615655.py:3: SettingWithCopyWarning: \n",
      "A value is trying to be set on a copy of a slice from a DataFrame.\n",
      "Try using .loc[row_indexer,col_indexer] = value instead\n",
      "\n",
      "See the caveats in the documentation: https://pandas.pydata.org/pandas-docs/stable/user_guide/indexing.html#returning-a-view-versus-a-copy\n",
      "  temp['Date'] = pd.to_datetime(temp['Date'],format='%Y%m%d')\n"
     ]
    },
    {
     "data": {
      "text/plain": "       User_id  u1   u2   u3        u4        u5    u6    u7        u8  \\\n0          184   1  1.0  2.0  0.500000  0.500000   0.0   2.0  0.500000   \n1          417   1  4.0  5.0  0.200000  0.800000   2.0   7.0  0.571429   \n2          687   2  6.0  8.0  0.250000  0.750000   0.0   8.0  0.750000   \n3          696   4  5.0  9.0  0.444444  0.555556  26.0  35.0  0.142857   \n4          947   2  4.0  6.0  0.333333  0.666667   5.0  11.0  0.363636   \n...        ...  ..  ...  ...       ...       ...   ...   ...       ...   \n46390  7360797   1  2.0  3.0  0.333333  0.666667   2.0   5.0  0.400000   \n46391  7360845   1  2.0  3.0  0.333333  0.666667   0.0   3.0  0.666667   \n46392  7360863   1  2.0  3.0  0.333333  0.666667   2.0   5.0  0.400000   \n46393  7360928   1  2.0  3.0  0.333333  0.666667   6.0   9.0  0.222222   \n46394  7360941   2  0.0  2.0  1.000000  0.000000   1.0   3.0  0.000000   \n\n              u9        u10  \n0       0.000000        NaN  \n1       7.333333   4.000000  \n2      31.500000        NaN  \n3       5.600000   6.461538  \n4      19.428571  27.000000  \n...          ...        ...  \n46390  32.000000  48.000000  \n46391   0.000000        NaN  \n46392   9.666667  14.500000  \n46393  17.428571  19.500000  \n46394   0.666667   0.000000  \n\n[46395 rows x 11 columns]",
      "text/html": "<div>\n<style scoped>\n    .dataframe tbody tr th:only-of-type {\n        vertical-align: middle;\n    }\n\n    .dataframe tbody tr th {\n        vertical-align: top;\n    }\n\n    .dataframe thead th {\n        text-align: right;\n    }\n</style>\n<table border=\"1\" class=\"dataframe\">\n  <thead>\n    <tr style=\"text-align: right;\">\n      <th></th>\n      <th>User_id</th>\n      <th>u1</th>\n      <th>u2</th>\n      <th>u3</th>\n      <th>u4</th>\n      <th>u5</th>\n      <th>u6</th>\n      <th>u7</th>\n      <th>u8</th>\n      <th>u9</th>\n      <th>u10</th>\n    </tr>\n  </thead>\n  <tbody>\n    <tr>\n      <th>0</th>\n      <td>184</td>\n      <td>1</td>\n      <td>1.0</td>\n      <td>2.0</td>\n      <td>0.500000</td>\n      <td>0.500000</td>\n      <td>0.0</td>\n      <td>2.0</td>\n      <td>0.500000</td>\n      <td>0.000000</td>\n      <td>NaN</td>\n    </tr>\n    <tr>\n      <th>1</th>\n      <td>417</td>\n      <td>1</td>\n      <td>4.0</td>\n      <td>5.0</td>\n      <td>0.200000</td>\n      <td>0.800000</td>\n      <td>2.0</td>\n      <td>7.0</td>\n      <td>0.571429</td>\n      <td>7.333333</td>\n      <td>4.000000</td>\n    </tr>\n    <tr>\n      <th>2</th>\n      <td>687</td>\n      <td>2</td>\n      <td>6.0</td>\n      <td>8.0</td>\n      <td>0.250000</td>\n      <td>0.750000</td>\n      <td>0.0</td>\n      <td>8.0</td>\n      <td>0.750000</td>\n      <td>31.500000</td>\n      <td>NaN</td>\n    </tr>\n    <tr>\n      <th>3</th>\n      <td>696</td>\n      <td>4</td>\n      <td>5.0</td>\n      <td>9.0</td>\n      <td>0.444444</td>\n      <td>0.555556</td>\n      <td>26.0</td>\n      <td>35.0</td>\n      <td>0.142857</td>\n      <td>5.600000</td>\n      <td>6.461538</td>\n    </tr>\n    <tr>\n      <th>4</th>\n      <td>947</td>\n      <td>2</td>\n      <td>4.0</td>\n      <td>6.0</td>\n      <td>0.333333</td>\n      <td>0.666667</td>\n      <td>5.0</td>\n      <td>11.0</td>\n      <td>0.363636</td>\n      <td>19.428571</td>\n      <td>27.000000</td>\n    </tr>\n    <tr>\n      <th>...</th>\n      <td>...</td>\n      <td>...</td>\n      <td>...</td>\n      <td>...</td>\n      <td>...</td>\n      <td>...</td>\n      <td>...</td>\n      <td>...</td>\n      <td>...</td>\n      <td>...</td>\n      <td>...</td>\n    </tr>\n    <tr>\n      <th>46390</th>\n      <td>7360797</td>\n      <td>1</td>\n      <td>2.0</td>\n      <td>3.0</td>\n      <td>0.333333</td>\n      <td>0.666667</td>\n      <td>2.0</td>\n      <td>5.0</td>\n      <td>0.400000</td>\n      <td>32.000000</td>\n      <td>48.000000</td>\n    </tr>\n    <tr>\n      <th>46391</th>\n      <td>7360845</td>\n      <td>1</td>\n      <td>2.0</td>\n      <td>3.0</td>\n      <td>0.333333</td>\n      <td>0.666667</td>\n      <td>0.0</td>\n      <td>3.0</td>\n      <td>0.666667</td>\n      <td>0.000000</td>\n      <td>NaN</td>\n    </tr>\n    <tr>\n      <th>46392</th>\n      <td>7360863</td>\n      <td>1</td>\n      <td>2.0</td>\n      <td>3.0</td>\n      <td>0.333333</td>\n      <td>0.666667</td>\n      <td>2.0</td>\n      <td>5.0</td>\n      <td>0.400000</td>\n      <td>9.666667</td>\n      <td>14.500000</td>\n    </tr>\n    <tr>\n      <th>46393</th>\n      <td>7360928</td>\n      <td>1</td>\n      <td>2.0</td>\n      <td>3.0</td>\n      <td>0.333333</td>\n      <td>0.666667</td>\n      <td>6.0</td>\n      <td>9.0</td>\n      <td>0.222222</td>\n      <td>17.428571</td>\n      <td>19.500000</td>\n    </tr>\n    <tr>\n      <th>46394</th>\n      <td>7360941</td>\n      <td>2</td>\n      <td>0.0</td>\n      <td>2.0</td>\n      <td>1.000000</td>\n      <td>0.000000</td>\n      <td>1.0</td>\n      <td>3.0</td>\n      <td>0.000000</td>\n      <td>0.666667</td>\n      <td>0.000000</td>\n    </tr>\n  </tbody>\n</table>\n<p>46395 rows × 11 columns</p>\n</div>"
     },
     "execution_count": 17,
     "metadata": {},
     "output_type": "execute_result"
    }
   ],
   "source": [
    "# How about their ordinary consumption gap?\n",
    "temp = Ordinary_Consumption\n",
    "temp['Date'] = pd.to_datetime(temp['Date'],format='%Y%m%d')\n",
    "temp = pd.merge(temp, temp.groupby('User_id').Date.max().reset_index(name='_max'))\n",
    "temp = pd.merge(temp, temp.groupby('User_id').Date.min().reset_index(name='_min'))\n",
    "temp = pd.merge(temp, temp.groupby('User_id').size().reset_index(name='_len'))\n",
    "temp['u10'] = (temp._max - temp._min).dt.days / temp._len\n",
    "temp.drop_duplicates('User_id', inplace=True)\n",
    "X = pd.merge(X, temp[['User_id', 'u10']], how='left', on='User_id')\n",
    "X"
   ]
  },
  {
   "cell_type": "code",
   "execution_count": 18,
   "outputs": [
    {
     "name": "stderr",
     "output_type": "stream",
     "text": [
      "C:\\Users\\ugz20\\AppData\\Local\\Temp\\ipykernel_18460\\4040961787.py:2: SettingWithCopyWarning: \n",
      "A value is trying to be set on a copy of a slice from a DataFrame.\n",
      "Try using .loc[row_indexer,col_indexer] = value instead\n",
      "\n",
      "See the caveats in the documentation: https://pandas.pydata.org/pandas-docs/stable/user_guide/indexing.html#returning-a-view-versus-a-copy\n",
      "  coupon_consume['Date'] = pd.to_datetime(coupon_consume['Date'],format='%Y%m%d')\n"
     ]
    },
    {
     "data": {
      "text/plain": "       User_id  u1   u2   u3        u4        u5    u6    u7        u8  \\\n0          184   1  1.0  2.0  0.500000  0.500000   0.0   2.0  0.500000   \n1          417   1  4.0  5.0  0.200000  0.800000   2.0   7.0  0.571429   \n2          687   2  6.0  8.0  0.250000  0.750000   0.0   8.0  0.750000   \n3          696   4  5.0  9.0  0.444444  0.555556  26.0  35.0  0.142857   \n4          947   2  4.0  6.0  0.333333  0.666667   5.0  11.0  0.363636   \n...        ...  ..  ...  ...       ...       ...   ...   ...       ...   \n46390  7360797   1  2.0  3.0  0.333333  0.666667   2.0   5.0  0.400000   \n46391  7360845   1  2.0  3.0  0.333333  0.666667   0.0   3.0  0.666667   \n46392  7360863   1  2.0  3.0  0.333333  0.666667   2.0   5.0  0.400000   \n46393  7360928   1  2.0  3.0  0.333333  0.666667   6.0   9.0  0.222222   \n46394  7360941   2  0.0  2.0  1.000000  0.000000   1.0   3.0  0.000000   \n\n              u9        u10    u11  \n0       0.000000        NaN   0.00  \n1       7.333333   4.000000   0.00  \n2      31.500000        NaN  31.50  \n3       5.600000   6.461538  11.75  \n4      19.428571  27.000000  52.50  \n...          ...        ...    ...  \n46390  32.000000  48.000000   0.00  \n46391   0.000000        NaN   0.00  \n46392   9.666667  14.500000   0.00  \n46393  17.428571  19.500000   0.00  \n46394   0.666667   0.000000   0.50  \n\n[46395 rows x 12 columns]",
      "text/html": "<div>\n<style scoped>\n    .dataframe tbody tr th:only-of-type {\n        vertical-align: middle;\n    }\n\n    .dataframe tbody tr th {\n        vertical-align: top;\n    }\n\n    .dataframe thead th {\n        text-align: right;\n    }\n</style>\n<table border=\"1\" class=\"dataframe\">\n  <thead>\n    <tr style=\"text-align: right;\">\n      <th></th>\n      <th>User_id</th>\n      <th>u1</th>\n      <th>u2</th>\n      <th>u3</th>\n      <th>u4</th>\n      <th>u5</th>\n      <th>u6</th>\n      <th>u7</th>\n      <th>u8</th>\n      <th>u9</th>\n      <th>u10</th>\n      <th>u11</th>\n    </tr>\n  </thead>\n  <tbody>\n    <tr>\n      <th>0</th>\n      <td>184</td>\n      <td>1</td>\n      <td>1.0</td>\n      <td>2.0</td>\n      <td>0.500000</td>\n      <td>0.500000</td>\n      <td>0.0</td>\n      <td>2.0</td>\n      <td>0.500000</td>\n      <td>0.000000</td>\n      <td>NaN</td>\n      <td>0.00</td>\n    </tr>\n    <tr>\n      <th>1</th>\n      <td>417</td>\n      <td>1</td>\n      <td>4.0</td>\n      <td>5.0</td>\n      <td>0.200000</td>\n      <td>0.800000</td>\n      <td>2.0</td>\n      <td>7.0</td>\n      <td>0.571429</td>\n      <td>7.333333</td>\n      <td>4.000000</td>\n      <td>0.00</td>\n    </tr>\n    <tr>\n      <th>2</th>\n      <td>687</td>\n      <td>2</td>\n      <td>6.0</td>\n      <td>8.0</td>\n      <td>0.250000</td>\n      <td>0.750000</td>\n      <td>0.0</td>\n      <td>8.0</td>\n      <td>0.750000</td>\n      <td>31.500000</td>\n      <td>NaN</td>\n      <td>31.50</td>\n    </tr>\n    <tr>\n      <th>3</th>\n      <td>696</td>\n      <td>4</td>\n      <td>5.0</td>\n      <td>9.0</td>\n      <td>0.444444</td>\n      <td>0.555556</td>\n      <td>26.0</td>\n      <td>35.0</td>\n      <td>0.142857</td>\n      <td>5.600000</td>\n      <td>6.461538</td>\n      <td>11.75</td>\n    </tr>\n    <tr>\n      <th>4</th>\n      <td>947</td>\n      <td>2</td>\n      <td>4.0</td>\n      <td>6.0</td>\n      <td>0.333333</td>\n      <td>0.666667</td>\n      <td>5.0</td>\n      <td>11.0</td>\n      <td>0.363636</td>\n      <td>19.428571</td>\n      <td>27.000000</td>\n      <td>52.50</td>\n    </tr>\n    <tr>\n      <th>...</th>\n      <td>...</td>\n      <td>...</td>\n      <td>...</td>\n      <td>...</td>\n      <td>...</td>\n      <td>...</td>\n      <td>...</td>\n      <td>...</td>\n      <td>...</td>\n      <td>...</td>\n      <td>...</td>\n      <td>...</td>\n    </tr>\n    <tr>\n      <th>46390</th>\n      <td>7360797</td>\n      <td>1</td>\n      <td>2.0</td>\n      <td>3.0</td>\n      <td>0.333333</td>\n      <td>0.666667</td>\n      <td>2.0</td>\n      <td>5.0</td>\n      <td>0.400000</td>\n      <td>32.000000</td>\n      <td>48.000000</td>\n      <td>0.00</td>\n    </tr>\n    <tr>\n      <th>46391</th>\n      <td>7360845</td>\n      <td>1</td>\n      <td>2.0</td>\n      <td>3.0</td>\n      <td>0.333333</td>\n      <td>0.666667</td>\n      <td>0.0</td>\n      <td>3.0</td>\n      <td>0.666667</td>\n      <td>0.000000</td>\n      <td>NaN</td>\n      <td>0.00</td>\n    </tr>\n    <tr>\n      <th>46392</th>\n      <td>7360863</td>\n      <td>1</td>\n      <td>2.0</td>\n      <td>3.0</td>\n      <td>0.333333</td>\n      <td>0.666667</td>\n      <td>2.0</td>\n      <td>5.0</td>\n      <td>0.400000</td>\n      <td>9.666667</td>\n      <td>14.500000</td>\n      <td>0.00</td>\n    </tr>\n    <tr>\n      <th>46393</th>\n      <td>7360928</td>\n      <td>1</td>\n      <td>2.0</td>\n      <td>3.0</td>\n      <td>0.333333</td>\n      <td>0.666667</td>\n      <td>6.0</td>\n      <td>9.0</td>\n      <td>0.222222</td>\n      <td>17.428571</td>\n      <td>19.500000</td>\n      <td>0.00</td>\n    </tr>\n    <tr>\n      <th>46394</th>\n      <td>7360941</td>\n      <td>2</td>\n      <td>0.0</td>\n      <td>2.0</td>\n      <td>1.000000</td>\n      <td>0.000000</td>\n      <td>1.0</td>\n      <td>3.0</td>\n      <td>0.000000</td>\n      <td>0.666667</td>\n      <td>0.000000</td>\n      <td>0.50</td>\n    </tr>\n  </tbody>\n</table>\n<p>46395 rows × 12 columns</p>\n</div>"
     },
     "execution_count": 18,
     "metadata": {},
     "output_type": "execute_result"
    }
   ],
   "source": [
    "# By the way, How about their coupon consumption gap??\n",
    "coupon_consume['Date'] = pd.to_datetime(coupon_consume['Date'],format='%Y%m%d')\n",
    "temp = pd.merge(coupon_consume, coupon_consume.groupby('User_id').Date.max().reset_index(name='_max'))\n",
    "temp = pd.merge(temp, temp.groupby('User_id').Date.min().reset_index(name='_min'))\n",
    "temp = pd.merge(temp, temp.groupby('User_id').size().reset_index(name='_len'))\n",
    "temp['u11'] = (temp._max - temp._min).dt.days / temp._len\n",
    "temp.drop_duplicates('User_id', inplace=True)\n",
    "X = pd.merge(X, temp[['User_id', 'u11']], how='left', on='User_id')\n",
    "X"
   ],
   "metadata": {
    "collapsed": false
   }
  },
  {
   "cell_type": "markdown",
   "source": [
    "Now is time to think about the coupon and features relationship, this can also bring some effective."
   ],
   "metadata": {
    "collapsed": false
   }
  },
  {
   "cell_type": "code",
   "execution_count": 19,
   "outputs": [
    {
     "data": {
      "text/plain": "       User_id  u1   u2   u3        u4        u5    u6    u7        u8  \\\n0          184   1  1.0  2.0  0.500000  0.500000   0.0   2.0  0.500000   \n1          417   1  4.0  5.0  0.200000  0.800000   2.0   7.0  0.571429   \n2          687   2  6.0  8.0  0.250000  0.750000   0.0   8.0  0.750000   \n3          696   4  5.0  9.0  0.444444  0.555556  26.0  35.0  0.142857   \n4          947   2  4.0  6.0  0.333333  0.666667   5.0  11.0  0.363636   \n...        ...  ..  ...  ...       ...       ...   ...   ...       ...   \n46390  7360797   1  2.0  3.0  0.333333  0.666667   2.0   5.0  0.400000   \n46391  7360845   1  2.0  3.0  0.333333  0.666667   0.0   3.0  0.666667   \n46392  7360863   1  2.0  3.0  0.333333  0.666667   2.0   5.0  0.400000   \n46393  7360928   1  2.0  3.0  0.333333  0.666667   6.0   9.0  0.222222   \n46394  7360941   2  0.0  2.0  1.000000  0.000000   1.0   3.0  0.000000   \n\n              u9        u10    u11  u12  \n0       0.000000        NaN   0.00  2.0  \n1       7.333333   4.000000   0.00  5.0  \n2      31.500000        NaN  31.50  8.0  \n3       5.600000   6.461538  11.75  7.0  \n4      19.428571  27.000000  52.50  6.0  \n...          ...        ...    ...  ...  \n46390  32.000000  48.000000   0.00  2.0  \n46391   0.000000        NaN   0.00  3.0  \n46392   9.666667  14.500000   0.00  3.0  \n46393  17.428571  19.500000   0.00  3.0  \n46394   0.666667   0.000000   0.50  2.0  \n\n[46395 rows x 13 columns]",
      "text/html": "<div>\n<style scoped>\n    .dataframe tbody tr th:only-of-type {\n        vertical-align: middle;\n    }\n\n    .dataframe tbody tr th {\n        vertical-align: top;\n    }\n\n    .dataframe thead th {\n        text-align: right;\n    }\n</style>\n<table border=\"1\" class=\"dataframe\">\n  <thead>\n    <tr style=\"text-align: right;\">\n      <th></th>\n      <th>User_id</th>\n      <th>u1</th>\n      <th>u2</th>\n      <th>u3</th>\n      <th>u4</th>\n      <th>u5</th>\n      <th>u6</th>\n      <th>u7</th>\n      <th>u8</th>\n      <th>u9</th>\n      <th>u10</th>\n      <th>u11</th>\n      <th>u12</th>\n    </tr>\n  </thead>\n  <tbody>\n    <tr>\n      <th>0</th>\n      <td>184</td>\n      <td>1</td>\n      <td>1.0</td>\n      <td>2.0</td>\n      <td>0.500000</td>\n      <td>0.500000</td>\n      <td>0.0</td>\n      <td>2.0</td>\n      <td>0.500000</td>\n      <td>0.000000</td>\n      <td>NaN</td>\n      <td>0.00</td>\n      <td>2.0</td>\n    </tr>\n    <tr>\n      <th>1</th>\n      <td>417</td>\n      <td>1</td>\n      <td>4.0</td>\n      <td>5.0</td>\n      <td>0.200000</td>\n      <td>0.800000</td>\n      <td>2.0</td>\n      <td>7.0</td>\n      <td>0.571429</td>\n      <td>7.333333</td>\n      <td>4.000000</td>\n      <td>0.00</td>\n      <td>5.0</td>\n    </tr>\n    <tr>\n      <th>2</th>\n      <td>687</td>\n      <td>2</td>\n      <td>6.0</td>\n      <td>8.0</td>\n      <td>0.250000</td>\n      <td>0.750000</td>\n      <td>0.0</td>\n      <td>8.0</td>\n      <td>0.750000</td>\n      <td>31.500000</td>\n      <td>NaN</td>\n      <td>31.50</td>\n      <td>8.0</td>\n    </tr>\n    <tr>\n      <th>3</th>\n      <td>696</td>\n      <td>4</td>\n      <td>5.0</td>\n      <td>9.0</td>\n      <td>0.444444</td>\n      <td>0.555556</td>\n      <td>26.0</td>\n      <td>35.0</td>\n      <td>0.142857</td>\n      <td>5.600000</td>\n      <td>6.461538</td>\n      <td>11.75</td>\n      <td>7.0</td>\n    </tr>\n    <tr>\n      <th>4</th>\n      <td>947</td>\n      <td>2</td>\n      <td>4.0</td>\n      <td>6.0</td>\n      <td>0.333333</td>\n      <td>0.666667</td>\n      <td>5.0</td>\n      <td>11.0</td>\n      <td>0.363636</td>\n      <td>19.428571</td>\n      <td>27.000000</td>\n      <td>52.50</td>\n      <td>6.0</td>\n    </tr>\n    <tr>\n      <th>...</th>\n      <td>...</td>\n      <td>...</td>\n      <td>...</td>\n      <td>...</td>\n      <td>...</td>\n      <td>...</td>\n      <td>...</td>\n      <td>...</td>\n      <td>...</td>\n      <td>...</td>\n      <td>...</td>\n      <td>...</td>\n      <td>...</td>\n    </tr>\n    <tr>\n      <th>46390</th>\n      <td>7360797</td>\n      <td>1</td>\n      <td>2.0</td>\n      <td>3.0</td>\n      <td>0.333333</td>\n      <td>0.666667</td>\n      <td>2.0</td>\n      <td>5.0</td>\n      <td>0.400000</td>\n      <td>32.000000</td>\n      <td>48.000000</td>\n      <td>0.00</td>\n      <td>2.0</td>\n    </tr>\n    <tr>\n      <th>46391</th>\n      <td>7360845</td>\n      <td>1</td>\n      <td>2.0</td>\n      <td>3.0</td>\n      <td>0.333333</td>\n      <td>0.666667</td>\n      <td>0.0</td>\n      <td>3.0</td>\n      <td>0.666667</td>\n      <td>0.000000</td>\n      <td>NaN</td>\n      <td>0.00</td>\n      <td>3.0</td>\n    </tr>\n    <tr>\n      <th>46392</th>\n      <td>7360863</td>\n      <td>1</td>\n      <td>2.0</td>\n      <td>3.0</td>\n      <td>0.333333</td>\n      <td>0.666667</td>\n      <td>2.0</td>\n      <td>5.0</td>\n      <td>0.400000</td>\n      <td>9.666667</td>\n      <td>14.500000</td>\n      <td>0.00</td>\n      <td>3.0</td>\n    </tr>\n    <tr>\n      <th>46393</th>\n      <td>7360928</td>\n      <td>1</td>\n      <td>2.0</td>\n      <td>3.0</td>\n      <td>0.333333</td>\n      <td>0.666667</td>\n      <td>6.0</td>\n      <td>9.0</td>\n      <td>0.222222</td>\n      <td>17.428571</td>\n      <td>19.500000</td>\n      <td>0.00</td>\n      <td>3.0</td>\n    </tr>\n    <tr>\n      <th>46394</th>\n      <td>7360941</td>\n      <td>2</td>\n      <td>0.0</td>\n      <td>2.0</td>\n      <td>1.000000</td>\n      <td>0.000000</td>\n      <td>1.0</td>\n      <td>3.0</td>\n      <td>0.000000</td>\n      <td>0.666667</td>\n      <td>0.000000</td>\n      <td>0.50</td>\n      <td>2.0</td>\n    </tr>\n  </tbody>\n</table>\n<p>46395 rows × 13 columns</p>\n</div>"
     },
     "execution_count": 19,
     "metadata": {},
     "output_type": "execute_result"
    }
   ],
   "source": [
    "# How many full discount coupon that the customer receive?\n",
    "temp = offline[offline.Discount_rate.str.contains(':') == True]\n",
    "temp = temp.groupby('User_id').size().reset_index(name='u12')\n",
    "X = pd.merge(X, temp, how='left', on='User_id')\n",
    "X"
   ],
   "metadata": {
    "collapsed": false
   }
  },
  {
   "cell_type": "code",
   "execution_count": 20,
   "outputs": [
    {
     "data": {
      "text/plain": "       User_id  u1   u2   u3        u4        u5    u6    u7        u8  \\\n0          184   1  1.0  2.0  0.500000  0.500000   0.0   2.0  0.500000   \n1          417   1  4.0  5.0  0.200000  0.800000   2.0   7.0  0.571429   \n2          687   2  6.0  8.0  0.250000  0.750000   0.0   8.0  0.750000   \n3          696   4  5.0  9.0  0.444444  0.555556  26.0  35.0  0.142857   \n4          947   2  4.0  6.0  0.333333  0.666667   5.0  11.0  0.363636   \n...        ...  ..  ...  ...       ...       ...   ...   ...       ...   \n46390  7360797   1  2.0  3.0  0.333333  0.666667   2.0   5.0  0.400000   \n46391  7360845   1  2.0  3.0  0.333333  0.666667   0.0   3.0  0.666667   \n46392  7360863   1  2.0  3.0  0.333333  0.666667   2.0   5.0  0.400000   \n46393  7360928   1  2.0  3.0  0.333333  0.666667   6.0   9.0  0.222222   \n46394  7360941   2  0.0  2.0  1.000000  0.000000   1.0   3.0  0.000000   \n\n              u9        u10    u11  u12  u13  \n0       0.000000        NaN   0.00  2.0  NaN  \n1       7.333333   4.000000   0.00  5.0  NaN  \n2      31.500000        NaN  31.50  8.0  NaN  \n3       5.600000   6.461538  11.75  7.0  2.0  \n4      19.428571  27.000000  52.50  6.0  NaN  \n...          ...        ...    ...  ...  ...  \n46390  32.000000  48.000000   0.00  2.0  1.0  \n46391   0.000000        NaN   0.00  3.0  NaN  \n46392   9.666667  14.500000   0.00  3.0  NaN  \n46393  17.428571  19.500000   0.00  3.0  NaN  \n46394   0.666667   0.000000   0.50  2.0  NaN  \n\n[46395 rows x 14 columns]",
      "text/html": "<div>\n<style scoped>\n    .dataframe tbody tr th:only-of-type {\n        vertical-align: middle;\n    }\n\n    .dataframe tbody tr th {\n        vertical-align: top;\n    }\n\n    .dataframe thead th {\n        text-align: right;\n    }\n</style>\n<table border=\"1\" class=\"dataframe\">\n  <thead>\n    <tr style=\"text-align: right;\">\n      <th></th>\n      <th>User_id</th>\n      <th>u1</th>\n      <th>u2</th>\n      <th>u3</th>\n      <th>u4</th>\n      <th>u5</th>\n      <th>u6</th>\n      <th>u7</th>\n      <th>u8</th>\n      <th>u9</th>\n      <th>u10</th>\n      <th>u11</th>\n      <th>u12</th>\n      <th>u13</th>\n    </tr>\n  </thead>\n  <tbody>\n    <tr>\n      <th>0</th>\n      <td>184</td>\n      <td>1</td>\n      <td>1.0</td>\n      <td>2.0</td>\n      <td>0.500000</td>\n      <td>0.500000</td>\n      <td>0.0</td>\n      <td>2.0</td>\n      <td>0.500000</td>\n      <td>0.000000</td>\n      <td>NaN</td>\n      <td>0.00</td>\n      <td>2.0</td>\n      <td>NaN</td>\n    </tr>\n    <tr>\n      <th>1</th>\n      <td>417</td>\n      <td>1</td>\n      <td>4.0</td>\n      <td>5.0</td>\n      <td>0.200000</td>\n      <td>0.800000</td>\n      <td>2.0</td>\n      <td>7.0</td>\n      <td>0.571429</td>\n      <td>7.333333</td>\n      <td>4.000000</td>\n      <td>0.00</td>\n      <td>5.0</td>\n      <td>NaN</td>\n    </tr>\n    <tr>\n      <th>2</th>\n      <td>687</td>\n      <td>2</td>\n      <td>6.0</td>\n      <td>8.0</td>\n      <td>0.250000</td>\n      <td>0.750000</td>\n      <td>0.0</td>\n      <td>8.0</td>\n      <td>0.750000</td>\n      <td>31.500000</td>\n      <td>NaN</td>\n      <td>31.50</td>\n      <td>8.0</td>\n      <td>NaN</td>\n    </tr>\n    <tr>\n      <th>3</th>\n      <td>696</td>\n      <td>4</td>\n      <td>5.0</td>\n      <td>9.0</td>\n      <td>0.444444</td>\n      <td>0.555556</td>\n      <td>26.0</td>\n      <td>35.0</td>\n      <td>0.142857</td>\n      <td>5.600000</td>\n      <td>6.461538</td>\n      <td>11.75</td>\n      <td>7.0</td>\n      <td>2.0</td>\n    </tr>\n    <tr>\n      <th>4</th>\n      <td>947</td>\n      <td>2</td>\n      <td>4.0</td>\n      <td>6.0</td>\n      <td>0.333333</td>\n      <td>0.666667</td>\n      <td>5.0</td>\n      <td>11.0</td>\n      <td>0.363636</td>\n      <td>19.428571</td>\n      <td>27.000000</td>\n      <td>52.50</td>\n      <td>6.0</td>\n      <td>NaN</td>\n    </tr>\n    <tr>\n      <th>...</th>\n      <td>...</td>\n      <td>...</td>\n      <td>...</td>\n      <td>...</td>\n      <td>...</td>\n      <td>...</td>\n      <td>...</td>\n      <td>...</td>\n      <td>...</td>\n      <td>...</td>\n      <td>...</td>\n      <td>...</td>\n      <td>...</td>\n      <td>...</td>\n    </tr>\n    <tr>\n      <th>46390</th>\n      <td>7360797</td>\n      <td>1</td>\n      <td>2.0</td>\n      <td>3.0</td>\n      <td>0.333333</td>\n      <td>0.666667</td>\n      <td>2.0</td>\n      <td>5.0</td>\n      <td>0.400000</td>\n      <td>32.000000</td>\n      <td>48.000000</td>\n      <td>0.00</td>\n      <td>2.0</td>\n      <td>1.0</td>\n    </tr>\n    <tr>\n      <th>46391</th>\n      <td>7360845</td>\n      <td>1</td>\n      <td>2.0</td>\n      <td>3.0</td>\n      <td>0.333333</td>\n      <td>0.666667</td>\n      <td>0.0</td>\n      <td>3.0</td>\n      <td>0.666667</td>\n      <td>0.000000</td>\n      <td>NaN</td>\n      <td>0.00</td>\n      <td>3.0</td>\n      <td>NaN</td>\n    </tr>\n    <tr>\n      <th>46392</th>\n      <td>7360863</td>\n      <td>1</td>\n      <td>2.0</td>\n      <td>3.0</td>\n      <td>0.333333</td>\n      <td>0.666667</td>\n      <td>2.0</td>\n      <td>5.0</td>\n      <td>0.400000</td>\n      <td>9.666667</td>\n      <td>14.500000</td>\n      <td>0.00</td>\n      <td>3.0</td>\n      <td>NaN</td>\n    </tr>\n    <tr>\n      <th>46393</th>\n      <td>7360928</td>\n      <td>1</td>\n      <td>2.0</td>\n      <td>3.0</td>\n      <td>0.333333</td>\n      <td>0.666667</td>\n      <td>6.0</td>\n      <td>9.0</td>\n      <td>0.222222</td>\n      <td>17.428571</td>\n      <td>19.500000</td>\n      <td>0.00</td>\n      <td>3.0</td>\n      <td>NaN</td>\n    </tr>\n    <tr>\n      <th>46394</th>\n      <td>7360941</td>\n      <td>2</td>\n      <td>0.0</td>\n      <td>2.0</td>\n      <td>1.000000</td>\n      <td>0.000000</td>\n      <td>1.0</td>\n      <td>3.0</td>\n      <td>0.000000</td>\n      <td>0.666667</td>\n      <td>0.000000</td>\n      <td>0.50</td>\n      <td>2.0</td>\n      <td>NaN</td>\n    </tr>\n  </tbody>\n</table>\n<p>46395 rows × 14 columns</p>\n</div>"
     },
     "execution_count": 20,
     "metadata": {},
     "output_type": "execute_result"
    }
   ],
   "source": [
    "# How many discount coupon that the customer receive?\n",
    "temp = offline[offline.Discount_rate.str.contains('\\.') == True]\n",
    "temp = temp.groupby('User_id').size().reset_index(name='u13')\n",
    "X = pd.merge(X, temp, how='left', on='User_id')\n",
    "X"
   ],
   "metadata": {
    "collapsed": false
   }
  },
  {
   "cell_type": "code",
   "execution_count": 21,
   "outputs": [],
   "source": [
    "# make the output\n",
    "X.to_csv(\"User_feature.csv\")"
   ],
   "metadata": {
    "collapsed": false
   }
  }
 ],
 "metadata": {
  "kernelspec": {
   "display_name": "Python 3 (ipykernel)",
   "language": "python",
   "name": "python3"
  },
  "language_info": {
   "codemirror_mode": {
    "name": "ipython",
    "version": 3
   },
   "file_extension": ".py",
   "mimetype": "text/x-python",
   "name": "python",
   "nbconvert_exporter": "python",
   "pygments_lexer": "ipython3",
   "version": "3.9.13"
  }
 },
 "nbformat": 4,
 "nbformat_minor": 2
}
