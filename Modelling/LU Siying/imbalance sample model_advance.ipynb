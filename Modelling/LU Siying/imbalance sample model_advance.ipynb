{
 "cells": [
  {
   "cell_type": "code",
   "execution_count": 72,
   "id": "3900a9f8",
   "metadata": {},
   "outputs": [],
   "source": [
    "import pandas as pd\n",
    "import numpy as np\n",
    "data = pd.read_csv('Basic_feature.csv', index_col=0)"
   ]
  },
  {
   "cell_type": "code",
   "execution_count": 73,
   "id": "5b340344",
   "metadata": {},
   "outputs": [],
   "source": [
    "X= data.drop(['Label','c5','c7','User_id','Merchant_id','Coupon_id'],axis=1)\n",
    "Y=data['Label'].astype(\"string\")"
   ]
  },
  {
   "cell_type": "markdown",
   "id": "3f09e498",
   "metadata": {},
   "source": [
    "# Replacement invalid value with -1 and missing value with 0"
   ]
  },
  {
   "cell_type": "code",
   "execution_count": 74,
   "id": "4ed5a5ce",
   "metadata": {},
   "outputs": [
    {
     "data": {
      "text/html": [
       "<div>\n",
       "<style scoped>\n",
       "    .dataframe tbody tr th:only-of-type {\n",
       "        vertical-align: middle;\n",
       "    }\n",
       "\n",
       "    .dataframe tbody tr th {\n",
       "        vertical-align: top;\n",
       "    }\n",
       "\n",
       "    .dataframe thead th {\n",
       "        text-align: right;\n",
       "    }\n",
       "</style>\n",
       "<table border=\"1\" class=\"dataframe\">\n",
       "  <thead>\n",
       "    <tr style=\"text-align: right;\">\n",
       "      <th></th>\n",
       "      <th>c1</th>\n",
       "      <th>c2</th>\n",
       "      <th>c3</th>\n",
       "      <th>c4</th>\n",
       "      <th>c6</th>\n",
       "      <th>c8</th>\n",
       "      <th>c9</th>\n",
       "      <th>c10</th>\n",
       "      <th>c11</th>\n",
       "      <th>c12</th>\n",
       "      <th>...</th>\n",
       "      <th>um3</th>\n",
       "      <th>um4</th>\n",
       "      <th>um5</th>\n",
       "      <th>um6</th>\n",
       "      <th>um7</th>\n",
       "      <th>um8</th>\n",
       "      <th>um9</th>\n",
       "      <th>um10</th>\n",
       "      <th>um11</th>\n",
       "      <th>um12</th>\n",
       "    </tr>\n",
       "  </thead>\n",
       "  <tbody>\n",
       "    <tr>\n",
       "      <th>0</th>\n",
       "      <td>1.0</td>\n",
       "      <td>7730</td>\n",
       "      <td>15.0</td>\n",
       "      <td>0.001940</td>\n",
       "      <td>5</td>\n",
       "      <td>1</td>\n",
       "      <td>0.0</td>\n",
       "      <td>0.000000</td>\n",
       "      <td>150.0</td>\n",
       "      <td>0.133333</td>\n",
       "      <td>...</td>\n",
       "      <td>0.0</td>\n",
       "      <td>0.00</td>\n",
       "      <td>0.25</td>\n",
       "      <td>0.0</td>\n",
       "      <td>0.0</td>\n",
       "      <td>1</td>\n",
       "      <td>2</td>\n",
       "      <td>1.0</td>\n",
       "      <td>0.500000</td>\n",
       "      <td>-1.000000</td>\n",
       "    </tr>\n",
       "    <tr>\n",
       "      <th>1</th>\n",
       "      <td>1.0</td>\n",
       "      <td>31</td>\n",
       "      <td>4.0</td>\n",
       "      <td>0.129032</td>\n",
       "      <td>2</td>\n",
       "      <td>3</td>\n",
       "      <td>1.0</td>\n",
       "      <td>0.333333</td>\n",
       "      <td>20.0</td>\n",
       "      <td>0.050000</td>\n",
       "      <td>...</td>\n",
       "      <td>1.0</td>\n",
       "      <td>0.25</td>\n",
       "      <td>0.75</td>\n",
       "      <td>3.0</td>\n",
       "      <td>2.0</td>\n",
       "      <td>4</td>\n",
       "      <td>2</td>\n",
       "      <td>1.0</td>\n",
       "      <td>0.500000</td>\n",
       "      <td>-1.000000</td>\n",
       "    </tr>\n",
       "    <tr>\n",
       "      <th>2</th>\n",
       "      <td>1.0</td>\n",
       "      <td>12</td>\n",
       "      <td>0.0</td>\n",
       "      <td>0.000000</td>\n",
       "      <td>5</td>\n",
       "      <td>1</td>\n",
       "      <td>0.0</td>\n",
       "      <td>0.000000</td>\n",
       "      <td>20.0</td>\n",
       "      <td>0.050000</td>\n",
       "      <td>...</td>\n",
       "      <td>1.0</td>\n",
       "      <td>0.25</td>\n",
       "      <td>0.75</td>\n",
       "      <td>3.0</td>\n",
       "      <td>2.0</td>\n",
       "      <td>4</td>\n",
       "      <td>2</td>\n",
       "      <td>1.0</td>\n",
       "      <td>0.500000</td>\n",
       "      <td>-1.000000</td>\n",
       "    </tr>\n",
       "    <tr>\n",
       "      <th>3</th>\n",
       "      <td>1.0</td>\n",
       "      <td>31</td>\n",
       "      <td>4.0</td>\n",
       "      <td>0.129032</td>\n",
       "      <td>0</td>\n",
       "      <td>3</td>\n",
       "      <td>1.0</td>\n",
       "      <td>0.333333</td>\n",
       "      <td>20.0</td>\n",
       "      <td>0.050000</td>\n",
       "      <td>...</td>\n",
       "      <td>1.0</td>\n",
       "      <td>0.25</td>\n",
       "      <td>0.75</td>\n",
       "      <td>3.0</td>\n",
       "      <td>2.0</td>\n",
       "      <td>4</td>\n",
       "      <td>2</td>\n",
       "      <td>1.0</td>\n",
       "      <td>0.500000</td>\n",
       "      <td>-1.000000</td>\n",
       "    </tr>\n",
       "    <tr>\n",
       "      <th>4</th>\n",
       "      <td>1.0</td>\n",
       "      <td>31</td>\n",
       "      <td>4.0</td>\n",
       "      <td>0.129032</td>\n",
       "      <td>0</td>\n",
       "      <td>3</td>\n",
       "      <td>1.0</td>\n",
       "      <td>0.333333</td>\n",
       "      <td>20.0</td>\n",
       "      <td>0.050000</td>\n",
       "      <td>...</td>\n",
       "      <td>1.0</td>\n",
       "      <td>0.25</td>\n",
       "      <td>0.75</td>\n",
       "      <td>3.0</td>\n",
       "      <td>2.0</td>\n",
       "      <td>4</td>\n",
       "      <td>2</td>\n",
       "      <td>1.0</td>\n",
       "      <td>0.500000</td>\n",
       "      <td>-1.000000</td>\n",
       "    </tr>\n",
       "    <tr>\n",
       "      <th>...</th>\n",
       "      <td>...</td>\n",
       "      <td>...</td>\n",
       "      <td>...</td>\n",
       "      <td>...</td>\n",
       "      <td>...</td>\n",
       "      <td>...</td>\n",
       "      <td>...</td>\n",
       "      <td>...</td>\n",
       "      <td>...</td>\n",
       "      <td>...</td>\n",
       "      <td>...</td>\n",
       "      <td>...</td>\n",
       "      <td>...</td>\n",
       "      <td>...</td>\n",
       "      <td>...</td>\n",
       "      <td>...</td>\n",
       "      <td>...</td>\n",
       "      <td>...</td>\n",
       "      <td>...</td>\n",
       "      <td>...</td>\n",
       "      <td>...</td>\n",
       "    </tr>\n",
       "    <tr>\n",
       "      <th>1053277</th>\n",
       "      <td>1.0</td>\n",
       "      <td>11</td>\n",
       "      <td>2.0</td>\n",
       "      <td>0.181818</td>\n",
       "      <td>2</td>\n",
       "      <td>2</td>\n",
       "      <td>2.0</td>\n",
       "      <td>1.000000</td>\n",
       "      <td>30.0</td>\n",
       "      <td>0.033333</td>\n",
       "      <td>...</td>\n",
       "      <td>2.0</td>\n",
       "      <td>1.00</td>\n",
       "      <td>0.00</td>\n",
       "      <td>2.0</td>\n",
       "      <td>0.0</td>\n",
       "      <td>2</td>\n",
       "      <td>3</td>\n",
       "      <td>2.0</td>\n",
       "      <td>0.666667</td>\n",
       "      <td>0.666667</td>\n",
       "    </tr>\n",
       "    <tr>\n",
       "      <th>1053278</th>\n",
       "      <td>1.0</td>\n",
       "      <td>10533</td>\n",
       "      <td>1611.0</td>\n",
       "      <td>0.152948</td>\n",
       "      <td>0</td>\n",
       "      <td>2</td>\n",
       "      <td>2.0</td>\n",
       "      <td>1.000000</td>\n",
       "      <td>30.0</td>\n",
       "      <td>0.166667</td>\n",
       "      <td>...</td>\n",
       "      <td>2.0</td>\n",
       "      <td>1.00</td>\n",
       "      <td>0.00</td>\n",
       "      <td>5.0</td>\n",
       "      <td>3.0</td>\n",
       "      <td>2</td>\n",
       "      <td>3</td>\n",
       "      <td>2.0</td>\n",
       "      <td>0.666667</td>\n",
       "      <td>0.333333</td>\n",
       "    </tr>\n",
       "    <tr>\n",
       "      <th>1053279</th>\n",
       "      <td>1.0</td>\n",
       "      <td>11</td>\n",
       "      <td>2.0</td>\n",
       "      <td>0.181818</td>\n",
       "      <td>6</td>\n",
       "      <td>2</td>\n",
       "      <td>2.0</td>\n",
       "      <td>1.000000</td>\n",
       "      <td>30.0</td>\n",
       "      <td>0.033333</td>\n",
       "      <td>...</td>\n",
       "      <td>2.0</td>\n",
       "      <td>1.00</td>\n",
       "      <td>0.00</td>\n",
       "      <td>2.0</td>\n",
       "      <td>0.0</td>\n",
       "      <td>2</td>\n",
       "      <td>3</td>\n",
       "      <td>2.0</td>\n",
       "      <td>0.666667</td>\n",
       "      <td>0.666667</td>\n",
       "    </tr>\n",
       "    <tr>\n",
       "      <th>1053280</th>\n",
       "      <td>1.0</td>\n",
       "      <td>929</td>\n",
       "      <td>12.0</td>\n",
       "      <td>0.012917</td>\n",
       "      <td>0</td>\n",
       "      <td>1</td>\n",
       "      <td>0.0</td>\n",
       "      <td>0.000000</td>\n",
       "      <td>50.0</td>\n",
       "      <td>0.200000</td>\n",
       "      <td>...</td>\n",
       "      <td>0.0</td>\n",
       "      <td>0.00</td>\n",
       "      <td>0.50</td>\n",
       "      <td>0.0</td>\n",
       "      <td>0.0</td>\n",
       "      <td>1</td>\n",
       "      <td>2</td>\n",
       "      <td>0.0</td>\n",
       "      <td>-1.000000</td>\n",
       "      <td>-1.000000</td>\n",
       "    </tr>\n",
       "    <tr>\n",
       "      <th>1053281</th>\n",
       "      <td>1.0</td>\n",
       "      <td>7633</td>\n",
       "      <td>352.0</td>\n",
       "      <td>0.046116</td>\n",
       "      <td>0</td>\n",
       "      <td>1</td>\n",
       "      <td>0.0</td>\n",
       "      <td>0.000000</td>\n",
       "      <td>20.0</td>\n",
       "      <td>0.250000</td>\n",
       "      <td>...</td>\n",
       "      <td>0.0</td>\n",
       "      <td>0.00</td>\n",
       "      <td>0.50</td>\n",
       "      <td>0.0</td>\n",
       "      <td>0.0</td>\n",
       "      <td>1</td>\n",
       "      <td>2</td>\n",
       "      <td>0.0</td>\n",
       "      <td>-1.000000</td>\n",
       "      <td>-1.000000</td>\n",
       "    </tr>\n",
       "  </tbody>\n",
       "</table>\n",
       "<p>1053282 rows × 45 columns</p>\n",
       "</div>"
      ],
      "text/plain": [
       "          c1     c2      c3        c4  c6  c8   c9       c10    c11       c12  \\\n",
       "0        1.0   7730    15.0  0.001940   5   1  0.0  0.000000  150.0  0.133333   \n",
       "1        1.0     31     4.0  0.129032   2   3  1.0  0.333333   20.0  0.050000   \n",
       "2        1.0     12     0.0  0.000000   5   1  0.0  0.000000   20.0  0.050000   \n",
       "3        1.0     31     4.0  0.129032   0   3  1.0  0.333333   20.0  0.050000   \n",
       "4        1.0     31     4.0  0.129032   0   3  1.0  0.333333   20.0  0.050000   \n",
       "...      ...    ...     ...       ...  ..  ..  ...       ...    ...       ...   \n",
       "1053277  1.0     11     2.0  0.181818   2   2  2.0  1.000000   30.0  0.033333   \n",
       "1053278  1.0  10533  1611.0  0.152948   0   2  2.0  1.000000   30.0  0.166667   \n",
       "1053279  1.0     11     2.0  0.181818   6   2  2.0  1.000000   30.0  0.033333   \n",
       "1053280  1.0    929    12.0  0.012917   0   1  0.0  0.000000   50.0  0.200000   \n",
       "1053281  1.0   7633   352.0  0.046116   0   1  0.0  0.000000   20.0  0.250000   \n",
       "\n",
       "         ...  um3   um4   um5  um6  um7  um8  um9  um10      um11      um12  \n",
       "0        ...  0.0  0.00  0.25  0.0  0.0    1    2   1.0  0.500000 -1.000000  \n",
       "1        ...  1.0  0.25  0.75  3.0  2.0    4    2   1.0  0.500000 -1.000000  \n",
       "2        ...  1.0  0.25  0.75  3.0  2.0    4    2   1.0  0.500000 -1.000000  \n",
       "3        ...  1.0  0.25  0.75  3.0  2.0    4    2   1.0  0.500000 -1.000000  \n",
       "4        ...  1.0  0.25  0.75  3.0  2.0    4    2   1.0  0.500000 -1.000000  \n",
       "...      ...  ...   ...   ...  ...  ...  ...  ...   ...       ...       ...  \n",
       "1053277  ...  2.0  1.00  0.00  2.0  0.0    2    3   2.0  0.666667  0.666667  \n",
       "1053278  ...  2.0  1.00  0.00  5.0  3.0    2    3   2.0  0.666667  0.333333  \n",
       "1053279  ...  2.0  1.00  0.00  2.0  0.0    2    3   2.0  0.666667  0.666667  \n",
       "1053280  ...  0.0  0.00  0.50  0.0  0.0    1    2   0.0 -1.000000 -1.000000  \n",
       "1053281  ...  0.0  0.00  0.50  0.0  0.0    1    2   0.0 -1.000000 -1.000000  \n",
       "\n",
       "[1053282 rows x 45 columns]"
      ]
     },
     "execution_count": 74,
     "metadata": {},
     "output_type": "execute_result"
    }
   ],
   "source": [
    "\n",
    "d=['u3','u4','u5','u10','u11','u12','u13','um11','um12','c11','c12','m4','m5','m6','m7','m8','m9',]\n",
    "    \n",
    "for y in d:\n",
    "    X[y]=X[y].fillna(-1)\n",
    "\n",
    "X = X.replace({np.nan:0})\n",
    "X"
   ]
  },
  {
   "cell_type": "markdown",
   "id": "4c3f2478",
   "metadata": {},
   "source": [
    "# Feature Selection - use Wrapper model to measure feature importance"
   ]
  },
  {
   "cell_type": "code",
   "execution_count": 75,
   "id": "fb075ff8",
   "metadata": {},
   "outputs": [],
   "source": [
    "from sklearn.ensemble import ExtraTreesClassifier \n",
    "from sklearn.feature_selection import SelectFromModel"
   ]
  },
  {
   "cell_type": "code",
   "execution_count": 76,
   "id": "32fb9309",
   "metadata": {},
   "outputs": [
    {
     "data": {
      "text/plain": [
       "array([0. , 0. , 0. , 0. , 0.1, 0. , 0. , 0.3, 0. , 0. , 0. , 0. , 0. ,\n",
       "       0. , 0. , 0. , 0. , 0. , 0. , 0. , 0. , 0. , 0.1, 0. , 0. , 0. ,\n",
       "       0. , 0. , 0. , 0. , 0. , 0. , 0. , 0. , 0. , 0. , 0.2, 0. , 0. ,\n",
       "       0. , 0. , 0. , 0. , 0.1, 0. ])"
      ]
     },
     "execution_count": 76,
     "metadata": {},
     "output_type": "execute_result"
    }
   ],
   "source": [
    "clf = ExtraTreesClassifier(n_estimators=50)\n",
    "clf = clf.fit(X,Y) #fit your data.\n",
    "clf.feature_importances_"
   ]
  },
  {
   "cell_type": "code",
   "execution_count": 77,
   "id": "5ef045a9",
   "metadata": {},
   "outputs": [],
   "source": [
    "b = sorted(enumerate(clf.feature_importances_), key=lambda x:x[1])  # x[1]是因为在enumerate(a)中，a数值在第1位\n",
    "c = [x[0] for x in b]"
   ]
  },
  {
   "cell_type": "code",
   "execution_count": 78,
   "id": "325371d3",
   "metadata": {},
   "outputs": [
    {
     "data": {
      "text/plain": [
       "[7, 36, 22, 4, 43, 23, 37, 6, 3, 35]"
      ]
     },
     "execution_count": 78,
     "metadata": {},
     "output_type": "execute_result"
    }
   ],
   "source": [
    "colname=X.columns\n",
    "d=c[-10:]\n",
    "d.reverse()\n",
    "d"
   ]
  },
  {
   "cell_type": "code",
   "execution_count": 79,
   "id": "c82b5c9a",
   "metadata": {},
   "outputs": [
    {
     "name": "stdout",
     "output_type": "stream",
     "text": [
      "c10 : 0.33601947001302884\n",
      "um4 : 0.1706551333163474\n",
      "u4 : 0.07612165963699517\n",
      "c6 : 0.0692767046260905\n",
      "um11 : 0.057009162587773075\n",
      "u5 : 0.03558525313601921\n",
      "um5 : 0.030863198253823162\n",
      "c9 : 0.025310991611762118\n",
      "c4 : 0.01697867823051267\n",
      "um3 : 0.014665702152542372\n"
     ]
    }
   ],
   "source": [
    "# top10 importance feature\n",
    "for i in d:\n",
    "    print(colname[i],\":\",clf.feature_importances_[i])"
   ]
  },
  {
   "cell_type": "markdown",
   "id": "ab9b9aac",
   "metadata": {},
   "source": [
    "feature c10 and um4 weight high"
   ]
  },
  {
   "cell_type": "markdown",
   "id": "3b3ae430",
   "metadata": {},
   "source": [
    "# inbalance data"
   ]
  },
  {
   "cell_type": "code",
   "execution_count": 80,
   "id": "8794115e",
   "metadata": {},
   "outputs": [],
   "source": [
    "from sklearn.model_selection import train_test_split # this function provides a single \"Hold-Out\" Validation.\n",
    "import matplotlib.pyplot as plt\n",
    "from sklearn.metrics import accuracy_score #similar to MAE, we use accuracy_score evaluation metric.\n",
    "import pandas as pd\n",
    "import numpy as np\n",
    "from sklearn.metrics import plot_confusion_matrix\n",
    "from sklearn.ensemble import AdaBoostClassifier\n",
    "from sklearn.ensemble import BaggingClassifier\n",
    "from sklearn.ensemble import RandomForestClassifier\n",
    "from sklearn.tree import DecisionTreeClassifier\n",
    "from sklearn.tree import plot_tree\n"
   ]
  },
  {
   "cell_type": "code",
   "execution_count": 81,
   "id": "a84aed97",
   "metadata": {
    "scrolled": true
   },
   "outputs": [
    {
     "data": {
      "text/plain": [
       "Counter({'0': 586909, '-1': 6533, '1': 38527})"
      ]
     },
     "execution_count": 81,
     "metadata": {},
     "output_type": "execute_result"
    }
   ],
   "source": [
    "from collections import Counter\n",
    "from imblearn.over_sampling import ADASYN, SMOTE, RandomOverSampler\n",
    "X_train, X_test, Y_train, Y_test = train_test_split(X, Y, test_size=0.4, random_state=1) \n",
    "Counter(Y_train)"
   ]
  },
  {
   "cell_type": "code",
   "execution_count": 85,
   "id": "197456e8",
   "metadata": {},
   "outputs": [
    {
     "data": {
      "image/png": "[encoded data removed]",
      "text/plain": [
       "<Figure size 432x288 with 1 Axes>"
      ]
     },
     "metadata": {},
     "output_type": "display_data"
    }
   ],
   "source": [
    "# classical decision tree model built in the origanl data after data prepareration\n",
    "\n",
    "from sklearn.ensemble import RandomForestClassifier\n",
    "from sklearn.metrics import classification_report\n",
    "np.random.seed(1) #because the model has random sampling, a random seed can ensure repeated results.\n",
    "#clf = RandomForestClassifier(max_depth=5,n_estimators=20)#500 bags, 500models\n",
    "clf =DecisionTreeClassifier(max_depth=5)\n",
    "clf = clf.fit(X_train, Y_train)\n",
    "Y_predTrain = clf.predict(X_train)\n",
    "Y_predTest = clf.predict(X_test)\n",
    "\n",
    "print('Training accuracy is %f' % accuracy_score(Y_train, Y_predTrain))\n",
    "      \n",
    "print('Validation accuracy is %f' %accuracy_score(Y_test, Y_predTest))\n",
    "\n",
    "disp = plot_confusion_matrix(clf, X_test, Y_test,values_format = '.0f',cmap=plt.cm.Blues)\n",
    "\n",
    "plt.title('Classical DecisionTree built by original training data')\n",
    "plt.show()\n",
    "#disp.title.set_text('Classical DecisionTree built by original training data')\n",
    "#disp <- disp + labs(title = \"Classical DecisionTree built by original training data\") +theme(plot.title = element_text(hjust = 0.5))\n",
    "disp\n",
    "#np.set_printoptions(precision=1)\n",
    "\n",
    "print(classification_report(Y_test, Y_predTest))\n",
    "\n",
    "# 定义数据和标签{'0': 586909, '-1': 6533, '1': 38527}\n",
    "data = [586909,6533,38527]\n",
    "labels = [ 'Not using coupon','Direct consumption', 'Using coupon']\n",
    "\n",
    "# 创建饼图\n",
    "fig, ax = plt.subplots()\n",
    "ax.pie(data, labels=labels, autopct='%1.1f%%')\n",
    "\n",
    "# 添加标题\n",
    "ax.set_title('Pie Chart of Consumption Behaviour')\n",
    "\n",
    "# 显示图形\n",
    "plt.savefig('Pie Chart of Consumption Behaviour.jpg',dpi=1000)"
   ]
  },
  {
   "cell_type": "markdown",
   "id": "fc02a14b",
   "metadata": {},
   "source": [
    "# acquire balance data with RandomOver,  RandomUnder, ADASYN and SMOT Sampler"
   ]
  },
  {
   "cell_type": "code",
   "execution_count": 86,
   "id": "a994c6cd",
   "metadata": {},
   "outputs": [
    {
     "data": {
      "text/plain": [
       "Counter({'0': 586909, '-1': 586909, '1': 586909})"
      ]
     },
     "execution_count": 86,
     "metadata": {},
     "output_type": "execute_result"
    }
   ],
   "source": [
    "from collections import Counter\n",
    "from imblearn.over_sampling import ADASYN, SMOTE, RandomOverSampler\n",
    "from imblearn.under_sampling import RandomUnderSampler\n",
    "sampler = RandomOverSampler(shrinkage=1, random_state=0)\n",
    "X_train_ROS, Y_train_ROS = sampler.fit_resample(X_train, Y_train)\n",
    "Counter(Y_train_ROS)"
   ]
  },
  {
   "cell_type": "code",
   "execution_count": 87,
   "id": "885ff182",
   "metadata": {},
   "outputs": [
    {
     "data": {
      "text/plain": [
       "Counter({'0': 586909, '-1': 586185, '1': 582669})"
      ]
     },
     "execution_count": 87,
     "metadata": {},
     "output_type": "execute_result"
    }
   ],
   "source": [
    "X_train_adasyn, Y_train_adasyn = ADASYN().fit_resample(X_train, Y_train)\n",
    "Counter(Y_train_adasyn)"
   ]
  },
  {
   "cell_type": "code",
   "execution_count": 16,
   "id": "496208c5",
   "metadata": {},
   "outputs": [
    {
     "data": {
      "text/plain": [
       "Counter({'0': 586909, '-1': 586909, '1': 586909})"
      ]
     },
     "execution_count": 16,
     "metadata": {},
     "output_type": "execute_result"
    }
   ],
   "source": [
    "X_train_SMOTE, Y_train_SMOTE = SMOTE().fit_resample(X_train, Y_train)\n",
    "Counter(Y_train_SMOTE)"
   ]
  },
  {
   "cell_type": "code",
   "execution_count": 17,
   "id": "a1eb45ef",
   "metadata": {},
   "outputs": [
    {
     "data": {
      "text/plain": [
       "Counter({'-1': 6533, '0': 6533, '1': 6533})"
      ]
     },
     "execution_count": 17,
     "metadata": {},
     "output_type": "execute_result"
    }
   ],
   "source": [
    "from imblearn.under_sampling import RandomUnderSampler\n",
    "sampling_strategy = {'0': 6533, '1': 6533, '-1':6533}\n",
    "rus = RandomUnderSampler(sampling_strategy=sampling_strategy)\n",
    "X_train_RandomUnder, Y_train_RandomUnder = rus.fit_resample(X_train, Y_train)\n",
    "Counter(Y_train_RandomUnder)"
   ]
  },
  {
   "cell_type": "markdown",
   "id": "27c8967d",
   "metadata": {},
   "source": [
    "# Train DecisionTree Model with RandomOverSampler"
   ]
  },
  {
   "cell_type": "code",
   "execution_count": 18,
   "id": "6387904d",
   "metadata": {},
   "outputs": [
    {
     "name": "stdout",
     "output_type": "stream",
     "text": [
      "Training accuracy is 0.949632\n",
      "Validation accuracy is 0.927277\n"
     ]
    }
   ],
   "source": [
    "from sklearn.ensemble import RandomForestClassifier\n",
    "from sklearn.metrics import classification_report\n",
    "np.random.seed(1) #because the model has random sampling, a random seed can ensure repeated results.\n",
    "#clf = RandomForestClassifier(max_depth=5,n_estimators=20)#500 bags, 500models\n",
    "X_train_ROS, Y_train_ROS\n",
    "clf =DecisionTreeClassifier(max_depth=5)\n",
    "clf = clf.fit(X_train_ROS, Y_train_ROS)\n",
    "Y_predTrain = clf.predict(X_train_ROS)\n",
    "Y_predTest = clf.predict(X_test)\n",
    "\n",
    "print('Training accuracy is %f' % accuracy_score(Y_train_ROS, Y_predTrain))\n",
    "      \n",
    "print('Validation accuracy is %f' %accuracy_score(Y_test, Y_predTest))"
   ]
  },
  {
   "cell_type": "code",
   "execution_count": 19,
   "id": "0a557a73",
   "metadata": {
    "scrolled": true
   },
   "outputs": [
    {
     "name": "stderr",
     "output_type": "stream",
     "text": [
      "C:\\Users\\95857\\Anaconda3\\lib\\site-packages\\sklearn\\utils\\deprecation.py:87: FutureWarning: Function plot_confusion_matrix is deprecated; Function `plot_confusion_matrix` is deprecated in 1.0 and will be removed in 1.2. Use one of the class methods: ConfusionMatrixDisplay.from_predictions or ConfusionMatrixDisplay.from_estimator.\n",
      "  warnings.warn(msg, category=FutureWarning)\n"
     ]
    },
    {
     "data": {
      "image/png": "[encoded data removed]",
      "text/plain": [
       "<Figure size 432x288 with 2 Axes>"
      ]
     },
     "metadata": {
      "needs_background": "light"
     },
     "output_type": "display_data"
    }
   ],
   "source": [
    "disp = plot_confusion_matrix(clf, X_test, Y_test,values_format = '.0f',cmap=plt.cm.Blues)\n",
    "np.set_printoptions(precision=1)"
   ]
  },
  {
   "cell_type": "code",
   "execution_count": 20,
   "id": "427bc31b",
   "metadata": {
    "scrolled": true
   },
   "outputs": [
    {
     "name": "stdout",
     "output_type": "stream",
     "text": [
      "              precision    recall  f1-score   support\n",
      "\n",
      "          -1       0.89      0.97      0.93    586909\n",
      "           0       1.00      0.98      0.99    586909\n",
      "           1       0.97      0.89      0.93    586909\n",
      "\n",
      "    accuracy                           0.95   1760727\n",
      "   macro avg       0.95      0.95      0.95   1760727\n",
      "weighted avg       0.95      0.95      0.95   1760727\n",
      "\n"
     ]
    }
   ],
   "source": [
    "print(classification_report( Y_train_ROS, Y_predTrain))"
   ]
  },
  {
   "cell_type": "code",
   "execution_count": 21,
   "id": "4ef33bd4",
   "metadata": {},
   "outputs": [
    {
     "name": "stdout",
     "output_type": "stream",
     "text": [
      "              precision    recall  f1-score   support\n",
      "\n",
      "          -1       0.13      0.98      0.23      4454\n",
      "           0       1.00      0.98      0.99    390991\n",
      "           1       0.79      0.08      0.14     25868\n",
      "\n",
      "    accuracy                           0.93    421313\n",
      "   macro avg       0.64      0.68      0.45    421313\n",
      "weighted avg       0.98      0.93      0.93    421313\n",
      "\n"
     ]
    }
   ],
   "source": [
    "print(classification_report( Y_test, Y_predTest))"
   ]
  },
  {
   "cell_type": "markdown",
   "id": "9b9f5737",
   "metadata": {},
   "source": [
    "# Train DecisionTree Model with RandomUnderSampler"
   ]
  },
  {
   "cell_type": "code",
   "execution_count": 22,
   "id": "0b25df36",
   "metadata": {},
   "outputs": [
    {
     "name": "stdout",
     "output_type": "stream",
     "text": [
      "Training accuracy is 0.794071\n",
      "Validation accuracy is 0.953987\n"
     ]
    }
   ],
   "source": [
    "X_train_RandomUnder, Y_train_RandomUnder\n",
    "clf =DecisionTreeClassifier(max_depth=5)\n",
    "clf = clf.fit(X_train_RandomUnder, Y_train_RandomUnder)\n",
    "Y_predTrain = clf.predict(X_train_RandomUnder)\n",
    "Y_predTest = clf.predict(X_test)\n",
    "\n",
    "print('Training accuracy is %f' % accuracy_score(Y_train_RandomUnder, Y_predTrain))\n",
    "      \n",
    "print('Validation accuracy is %f' %accuracy_score(Y_test, Y_predTest))"
   ]
  },
  {
   "cell_type": "code",
   "execution_count": 23,
   "id": "6d227a8a",
   "metadata": {},
   "outputs": [
    {
     "name": "stderr",
     "output_type": "stream",
     "text": [
      "C:\\Users\\95857\\Anaconda3\\lib\\site-packages\\sklearn\\utils\\deprecation.py:87: FutureWarning: Function plot_confusion_matrix is deprecated; Function `plot_confusion_matrix` is deprecated in 1.0 and will be removed in 1.2. Use one of the class methods: ConfusionMatrixDisplay.from_predictions or ConfusionMatrixDisplay.from_estimator.\n",
      "  warnings.warn(msg, category=FutureWarning)\n"
     ]
    },
    {
     "data": {
      "image/png": "[encoded data removed]",
      "text/plain": [
       "<Figure size 432x288 with 2 Axes>"
      ]
     },
     "metadata": {
      "needs_background": "light"
     },
     "output_type": "display_data"
    }
   ],
   "source": [
    "disp = plot_confusion_matrix(clf, X_test, Y_test,values_format = '.0f',cmap=plt.cm.Blues)\n",
    "np.set_printoptions(precision=1)"
   ]
  },
  {
   "cell_type": "code",
   "execution_count": 24,
   "id": "49b6a6da",
   "metadata": {},
   "outputs": [
    {
     "name": "stdout",
     "output_type": "stream",
     "text": [
      "              precision    recall  f1-score   support\n",
      "\n",
      "          -1       0.65      0.87      0.74      6533\n",
      "           0       1.00      0.98      0.99      6533\n",
      "           1       0.79      0.53      0.63      6533\n",
      "\n",
      "    accuracy                           0.79     19599\n",
      "   macro avg       0.81      0.79      0.79     19599\n",
      "weighted avg       0.81      0.79      0.79     19599\n",
      "\n"
     ]
    }
   ],
   "source": [
    "print(classification_report(Y_train_RandomUnder, Y_predTrain))"
   ]
  },
  {
   "cell_type": "code",
   "execution_count": 25,
   "id": "b26fff39",
   "metadata": {},
   "outputs": [
    {
     "name": "stdout",
     "output_type": "stream",
     "text": [
      "              precision    recall  f1-score   support\n",
      "\n",
      "          -1       0.20      0.86      0.33      4454\n",
      "           0       1.00      0.98      0.99    390991\n",
      "           1       0.76      0.53      0.62     25868\n",
      "\n",
      "    accuracy                           0.95    421313\n",
      "   macro avg       0.65      0.79      0.65    421313\n",
      "weighted avg       0.98      0.95      0.96    421313\n",
      "\n"
     ]
    }
   ],
   "source": [
    "print(classification_report( Y_test, Y_predTest))"
   ]
  },
  {
   "cell_type": "code",
   "execution_count": 26,
   "id": "c86136df",
   "metadata": {},
   "outputs": [
    {
     "data": {
      "image/png": "[encoded data removed]",
      "text/plain": [
       "<Figure size 432x288 with 1 Axes>"
      ]
     },
     "metadata": {
      "needs_background": "light"
     },
     "output_type": "display_data"
    }
   ],
   "source": [
    "plot_tree(clf, filled=True)\n",
    "plt.savefig('DecisionTreeClassifier under RandomUnder sampler.jpg',dpi=1000)"
   ]
  },
  {
   "cell_type": "markdown",
   "id": "fd528606",
   "metadata": {},
   "source": [
    "# Train DecisionTree Model with ADASYN Sampler"
   ]
  },
  {
   "cell_type": "code",
   "execution_count": 88,
   "id": "3cc318f1",
   "metadata": {
    "scrolled": true
   },
   "outputs": [
    {
     "name": "stdout",
     "output_type": "stream",
     "text": [
      "Training accuracy is 0.757049\n",
      "Validation accuracy is 0.965686\n"
     ]
    }
   ],
   "source": [
    "clf =DecisionTreeClassifier(max_depth=5)\n",
    "clf = clf.fit(X_train_adasyn, Y_train_adasyn)\n",
    "Y_predTrain = clf.predict(X_train_adasyn)\n",
    "Y_predTest = clf.predict(X_test)\n",
    "\n",
    "print('Training accuracy is %f' % accuracy_score(Y_train_adasyn, Y_predTrain))\n",
    "      \n",
    "print('Validation accuracy is %f' %accuracy_score(Y_test, Y_predTest))"
   ]
  },
  {
   "cell_type": "code",
   "execution_count": 89,
   "id": "2744b64b",
   "metadata": {},
   "outputs": [
    {
     "name": "stderr",
     "output_type": "stream",
     "text": [
      "C:\\Users\\95857\\Anaconda3\\lib\\site-packages\\sklearn\\utils\\deprecation.py:87: FutureWarning: Function plot_confusion_matrix is deprecated; Function `plot_confusion_matrix` is deprecated in 1.0 and will be removed in 1.2. Use one of the class methods: ConfusionMatrixDisplay.from_predictions or ConfusionMatrixDisplay.from_estimator.\n",
      "  warnings.warn(msg, category=FutureWarning)\n"
     ]
    },
    {
     "data": {
      "image/png": "[encoded data removed]",
      "text/plain": [
       "<Figure size 432x288 with 2 Axes>"
      ]
     },
     "metadata": {
      "needs_background": "light"
     },
     "output_type": "display_data"
    }
   ],
   "source": [
    "disp = plot_confusion_matrix(clf, X_test, Y_test,values_format = '.0f',cmap=plt.cm.Blues)\n",
    "np.set_printoptions(precision=1)"
   ]
  },
  {
   "cell_type": "code",
   "execution_count": 90,
   "id": "0dd93b6d",
   "metadata": {},
   "outputs": [
    {
     "name": "stdout",
     "output_type": "stream",
     "text": [
      "              precision    recall  f1-score   support\n",
      "\n",
      "          -1       0.67      0.56      0.61    586185\n",
      "           0       1.00      0.98      0.99    586909\n",
      "           1       0.61      0.72      0.66    582669\n",
      "\n",
      "    accuracy                           0.76   1755763\n",
      "   macro avg       0.76      0.76      0.76   1755763\n",
      "weighted avg       0.76      0.76      0.76   1755763\n",
      "\n"
     ]
    }
   ],
   "source": [
    "print(classification_report( Y_train_adasyn, Y_predTrain))"
   ]
  },
  {
   "cell_type": "markdown",
   "id": "b5806211",
   "metadata": {},
   "source": [
    "### Due to ignoring set random state while adopting ADASYN Sampler, this result is different from the report"
   ]
  },
  {
   "cell_type": "code",
   "execution_count": 91,
   "id": "73632019",
   "metadata": {},
   "outputs": [
    {
     "name": "stdout",
     "output_type": "stream",
     "text": [
      "              precision    recall  f1-score   support\n",
      "\n",
      "          -1       0.29      0.58      0.38      4454\n",
      "           0       1.00      0.98      0.99    390991\n",
      "           1       0.71      0.76      0.74     25868\n",
      "\n",
      "    accuracy                           0.97    421313\n",
      "   macro avg       0.67      0.78      0.70    421313\n",
      "weighted avg       0.97      0.97      0.97    421313\n",
      "\n"
     ]
    }
   ],
   "source": [
    "print(classification_report( Y_test, Y_predTest))"
   ]
  },
  {
   "cell_type": "code",
   "execution_count": 31,
   "id": "5e98bb8e",
   "metadata": {},
   "outputs": [
    {
     "data": {
      "image/png": "[encoded data removed]",
      "text/plain": [
       "<Figure size 432x288 with 1 Axes>"
      ]
     },
     "metadata": {
      "needs_background": "light"
     },
     "output_type": "display_data"
    }
   ],
   "source": [
    "from sklearn.tree import plot_tree\n",
    "plot_tree(clf, filled=True)\n",
    "plt.savefig('DecisionTreeClassifier under ADASYN sampler.jpg',dpi=1000)"
   ]
  },
  {
   "cell_type": "markdown",
   "id": "dd4498fd",
   "metadata": {},
   "source": [
    "# Train DecisionTree Model with SMOT Sampler"
   ]
  },
  {
   "cell_type": "code",
   "execution_count": 32,
   "id": "b83c8584",
   "metadata": {},
   "outputs": [
    {
     "name": "stdout",
     "output_type": "stream",
     "text": [
      "Training accuracy is 0.800635\n",
      "Validation accuracy is 0.953842\n"
     ]
    }
   ],
   "source": [
    "X_train_SMOTE, Y_train_SMOTE\n",
    "clf =DecisionTreeClassifier(max_depth=5)\n",
    "clf = clf.fit(X_train_SMOTE, Y_train_SMOTE)\n",
    "Y_predTrain = clf.predict(X_train_SMOTE)\n",
    "Y_predTest = clf.predict(X_test)\n",
    "\n",
    "print('Training accuracy is %f' % accuracy_score( Y_train_SMOTE, Y_predTrain))\n",
    "      \n",
    "print('Validation accuracy is %f' %accuracy_score(Y_test, Y_predTest))"
   ]
  },
  {
   "cell_type": "code",
   "execution_count": 33,
   "id": "3b13a59d",
   "metadata": {},
   "outputs": [
    {
     "name": "stderr",
     "output_type": "stream",
     "text": [
      "C:\\Users\\95857\\Anaconda3\\lib\\site-packages\\sklearn\\utils\\deprecation.py:87: FutureWarning: Function plot_confusion_matrix is deprecated; Function `plot_confusion_matrix` is deprecated in 1.0 and will be removed in 1.2. Use one of the class methods: ConfusionMatrixDisplay.from_predictions or ConfusionMatrixDisplay.from_estimator.\n",
      "  warnings.warn(msg, category=FutureWarning)\n"
     ]
    },
    {
     "data": {
      "image/png": "[encoded data removed]",
      "text/plain": [
       "<Figure size 432x288 with 2 Axes>"
      ]
     },
     "metadata": {
      "needs_background": "light"
     },
     "output_type": "display_data"
    }
   ],
   "source": [
    "disp = plot_confusion_matrix(clf, X_test, Y_test,values_format = '.0f',cmap=plt.cm.Blues)\n",
    "np.set_printoptions(precision=1)"
   ]
  },
  {
   "cell_type": "code",
   "execution_count": 34,
   "id": "41e829c3",
   "metadata": {},
   "outputs": [
    {
     "name": "stdout",
     "output_type": "stream",
     "text": [
      "              precision    recall  f1-score   support\n",
      "\n",
      "          -1       0.64      0.91      0.76    586909\n",
      "           0       1.00      0.98      0.99    586909\n",
      "           1       0.84      0.51      0.63    586909\n",
      "\n",
      "    accuracy                           0.80   1760727\n",
      "   macro avg       0.83      0.80      0.79   1760727\n",
      "weighted avg       0.83      0.80      0.79   1760727\n",
      "\n"
     ]
    }
   ],
   "source": [
    "print(classification_report(Y_train_SMOTE, Y_predTrain))"
   ]
  },
  {
   "cell_type": "code",
   "execution_count": 35,
   "id": "35f5346e",
   "metadata": {},
   "outputs": [
    {
     "name": "stdout",
     "output_type": "stream",
     "text": [
      "              precision    recall  f1-score   support\n",
      "\n",
      "          -1       0.19      0.88      0.32      4454\n",
      "           0       1.00      0.98      0.99    390991\n",
      "           1       0.81      0.51      0.63     25868\n",
      "\n",
      "    accuracy                           0.95    421313\n",
      "   macro avg       0.67      0.79      0.64    421313\n",
      "weighted avg       0.98      0.95      0.96    421313\n",
      "\n"
     ]
    }
   ],
   "source": [
    "print(classification_report( Y_test, Y_predTest))"
   ]
  },
  {
   "cell_type": "code",
   "execution_count": 36,
   "id": "8e7eaf50",
   "metadata": {},
   "outputs": [
    {
     "data": {
      "image/png": "[encoded data removed]",
      "text/plain": [
       "<Figure size 432x288 with 1 Axes>"
      ]
     },
     "metadata": {
      "needs_background": "light"
     },
     "output_type": "display_data"
    }
   ],
   "source": [
    "plot_tree(clf, filled=True)\n",
    "plt.savefig('DecisionTreeClassifier under SMOTE sampler.jpg',dpi=1000)"
   ]
  },
  {
   "cell_type": "markdown",
   "id": "09bb46b2",
   "metadata": {},
   "source": [
    "# RandomForest Model with ADASYN Sampler"
   ]
  },
  {
   "cell_type": "code",
   "execution_count": 55,
   "id": "62150b19",
   "metadata": {},
   "outputs": [
    {
     "name": "stdout",
     "output_type": "stream",
     "text": [
      "Training accuracy is 0.770003\n",
      "Validation accuracy is 0.962925\n"
     ]
    }
   ],
   "source": [
    "from sklearn.ensemble import RandomForestClassifier\n",
    "\n",
    "np.random.seed(1) #because the model has random sampling, a random seed can ensure repeated results.\n",
    "clf = RandomForestClassifier(max_depth=5,n_estimators=100)\n",
    "#clf =DecisionTreeClassifier(max_depth=5)\n",
    "clf = clf.fit(X_train_adasyn, Y_train_adasyn)\n",
    "Y_predTrain = clf.predict(X_train_adasyn)\n",
    "Y_predTest = clf.predict(X_test)\n",
    "\n",
    "print('Training accuracy is %f' % accuracy_score(Y_train_adasyn, Y_predTrain))\n",
    "      \n",
    "print('Validation accuracy is %f' %accuracy_score(Y_test, Y_predTest))"
   ]
  },
  {
   "cell_type": "code",
   "execution_count": 56,
   "id": "b9046de6",
   "metadata": {},
   "outputs": [
    {
     "name": "stderr",
     "output_type": "stream",
     "text": [
      "C:\\Users\\95857\\Anaconda3\\lib\\site-packages\\sklearn\\utils\\deprecation.py:87: FutureWarning: Function plot_confusion_matrix is deprecated; Function `plot_confusion_matrix` is deprecated in 1.0 and will be removed in 1.2. Use one of the class methods: ConfusionMatrixDisplay.from_predictions or ConfusionMatrixDisplay.from_estimator.\n",
      "  warnings.warn(msg, category=FutureWarning)\n"
     ]
    },
    {
     "data": {
      "image/png": "[encoded data removed]",
      "text/plain": [
       "<Figure size 432x288 with 2 Axes>"
      ]
     },
     "metadata": {
      "needs_background": "light"
     },
     "output_type": "display_data"
    }
   ],
   "source": [
    "disp = plot_confusion_matrix(clf, X_test, Y_test,values_format = '.0f',cmap=plt.cm.Blues)\n",
    "np.set_printoptions(precision=1)\n",
    "from sklearn.metrics import classification_report"
   ]
  },
  {
   "cell_type": "code",
   "execution_count": 57,
   "id": "cf21f27b",
   "metadata": {},
   "outputs": [
    {
     "name": "stdout",
     "output_type": "stream",
     "text": [
      "              precision    recall  f1-score   support\n",
      "\n",
      "          -1       0.66      0.67      0.67    586185\n",
      "           0       1.00      0.98      0.99    586909\n",
      "           1       0.65      0.65      0.65    582669\n",
      "\n",
      "    accuracy                           0.77   1755763\n",
      "   macro avg       0.77      0.77      0.77   1755763\n",
      "weighted avg       0.77      0.77      0.77   1755763\n",
      "\n"
     ]
    }
   ],
   "source": [
    "print(classification_report(Y_train_adasyn, Y_predTrain))"
   ]
  },
  {
   "cell_type": "code",
   "execution_count": 58,
   "id": "68b72687",
   "metadata": {},
   "outputs": [
    {
     "name": "stdout",
     "output_type": "stream",
     "text": [
      "              precision    recall  f1-score   support\n",
      "\n",
      "          -1       0.27      0.66      0.39      4454\n",
      "           0       1.00      0.98      0.99    390991\n",
      "           1       0.70      0.71      0.71     25868\n",
      "\n",
      "    accuracy                           0.96    421313\n",
      "   macro avg       0.66      0.78      0.69    421313\n",
      "weighted avg       0.97      0.96      0.97    421313\n",
      "\n"
     ]
    }
   ],
   "source": [
    "print(classification_report( Y_test, Y_predTest))"
   ]
  },
  {
   "cell_type": "code",
   "execution_count": null,
   "id": "f0ee7387",
   "metadata": {},
   "outputs": [],
   "source": []
  }
 ],
 "metadata": {
  "kernelspec": {
   "display_name": "Python 3 (ipykernel)",
   "language": "python",
   "name": "python3"
  },
  "language_info": {
   "codemirror_mode": {
    "name": "ipython",
    "version": 3
   },
   "file_extension": ".py",
   "mimetype": "text/x-python",
   "name": "python",
   "nbconvert_exporter": "python",
   "pygments_lexer": "ipython3",
   "version": "3.9.12"
  }
 },
 "nbformat": 4,
 "nbformat_minor": 5
}
